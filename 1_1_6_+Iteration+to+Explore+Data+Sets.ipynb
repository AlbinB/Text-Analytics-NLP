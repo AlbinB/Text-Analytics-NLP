{
  "nbformat": 4,
  "nbformat_minor": 0,
  "metadata": {
    "colab": {
      "name": "1.1.6.+Iteration+to+Explore+Data+Sets.ipynb",
      "provenance": [],
      "collapsed_sections": [],
      "authorship_tag": "ABX9TyMrlfbEPJXQSfE8Qj9N3qZC",
      "include_colab_link": true
    },
    "kernelspec": {
      "name": "python3",
      "display_name": "Python 3"
    }
  },
  "cells": [
    {
      "cell_type": "markdown",
      "metadata": {
        "id": "view-in-github",
        "colab_type": "text"
      },
      "source": [
        "<a href=\"https://colab.research.google.com/github/AlbinB/Text-Analytics-NLP/blob/main/1_1_6_%2BIteration%2Bto%2BExplore%2BData%2BSets.ipynb\" target=\"_parent\"><img src=\"https://colab.research.google.com/assets/colab-badge.svg\" alt=\"Open In Colab\"/></a>"
      ]
    },
    {
      "cell_type": "markdown",
      "metadata": {
        "id": "jcEXeJny9C8i"
      },
      "source": [
        "# Lecture Notes"
      ]
    },
    {
      "cell_type": "markdown",
      "metadata": {
        "id": "x3N6XEwx9Iv_"
      },
      "source": [
        "<h2>Text Similarity</h2>\n",
        "\n",
        "**Text similarity models let us compare documents without deciding how to categorize them first.**\n",
        "\n",
        "The second kind of core model that we’ll cover is called text similarity. The basic idea here is that, if we can measure how similar two words or two texts are, then we can cluster documents into groups. For example, let’s say I can measure that Charles Dickens writes more like to Anthony Trollope than Ernest Hemingway (and I can). Then we do that for every pair of writers. Now we have a network of relationships between them that we can cluster into groups: Victorian British writers vs. 20th century American men, for example. There are a lot of novelists, but not so many that we as individuals couldn’t spend our lives doing just that kind of analysis. But a machine can do it for 300 million tweets a day no problem. Automation lets us focus on tasks that actually require human intelligence.\n",
        "\n",
        "A search engine is based on similarity models: the goal is to find the set of web pages (a type of document) whose content is most similar to your query. The challenge, of course, is that there isn’t always an explicit connection between search terms (“home brew”) and the topic (“beer”). So our text similarity model needs to learn that there is a topic in the background that can show up across various terms like “fermenter” and “siphon” and “yeast.” You might search for “how to start a home brew” when you actually need to find a page about how to soak your grains.\n",
        "\n",
        "Part of text similarity is the relationship between two texts in isolation. That means that we just compare Dickens and Trollope on their own. But sometimes we want to know the relationship between all the texts in a larger data set: the whole web for a search engine or all English novels for a study of author style. When we do this, we need a single fixed point for comparison. For example, we could define the location of every city in the world using its angle and distance from Rome. Then we use these two numbers to represent where each city is located. Some similarity models work in just this way: we pick an arbitrary point in linguistic space and map our texts relative to that point. We’ll be talking about the metaphor of linguistic space in future sections, so for now just hold that as something to think about.\n",
        "\n",
        "Texts can be similar to one another because they have similar content or because they have similar authors. While search engines work on content similarity, we could also imagine a search engine that works by author (news articles by Canadian women) or by sentiment (news articles that have a positive view of city cycling). The point is that if we can measure a particular property of a text, then we can find other texts with that same property: content or author or sentiment.\n",
        "\n",
        "* **Words vs. Documents**. A similarity model can be used to cluster documents, but it can also be used to cluster words. Later in the course we will see how to do both tasks. These two problems are related: for example, we could start with word similarity to see that “home brew” and “beer” and “keg” and “yeast” are all words that occur in a single topic. Then, a text similarity model can start by knowing which words are related to one another. This is helpful because we are often looking for documents about a topic that don’t necessarily contain all our exact search terms.\n",
        "\n",
        "* **Unsupervised Learning**. You’ll notice that text similarity doesn’t require humans to define categories in advance. On the one hand, this means it is possible for artificial intelligence to find categories that humans aren’t aware of. We might think of “home brew” as a topic that includes “beer” and “yeast” but forget about “bottles” and “sanitization” and “hops.” An unsupervised model is easier to get started with, because we don’t have the initial work of creating a category system. On the other hand, it is much harder in practice to get these models to work well. The basic problem is that if we don’t tell the model exactly what we want, we might not like what we get. AI might tell us that “home brew” is most similar to making your own jam and pickled beets.\n"
      ]
    },
    {
      "cell_type": "markdown",
      "metadata": {
        "id": "oxUCvdLg9Dcp"
      },
      "source": [
        "# Colab Setup"
      ]
    },
    {
      "cell_type": "code",
      "metadata": {
        "id": "Sb6uzL9u9SPu",
        "colab": {
          "base_uri": "https://localhost:8080/"
        },
        "outputId": "16ac9d19-5802-4d5a-9199-fcda79202da4"
      },
      "source": [
        "# if you are running these labs in CoLab, you will first need to mount the drive and \n",
        "# copy text_analitics.py to path \n",
        "\n",
        "from google.colab import drive\n",
        "drive.mount('/content/drive/')"
      ],
      "execution_count": null,
      "outputs": [
        {
          "output_type": "stream",
          "text": [
            "Mounted at /content/drive/\n"
          ],
          "name": "stdout"
        }
      ]
    },
    {
      "cell_type": "code",
      "metadata": {
        "id": "1QfUtbEV9Si9",
        "colab": {
          "base_uri": "https://localhost:8080/"
        },
        "outputId": "fbb65835-d728-46f3-88e3-c4769a11fe34"
      },
      "source": [
        "###Add text_analytics.py to path \n",
        "!cp \"/content/drive/My Drive/Colab Notebooks/CourseWork/Text Analytics and Natural Language Processing/text_analytics.py\" .\n",
        "print(\"Done!\")"
      ],
      "execution_count": null,
      "outputs": [
        {
          "output_type": "stream",
          "text": [
            "Done!\n"
          ],
          "name": "stdout"
        }
      ]
    },
    {
      "cell_type": "markdown",
      "metadata": {
        "id": "jzMC7zDN9Dxo"
      },
      "source": [
        "# Lecture Lab"
      ]
    },
    {
      "cell_type": "markdown",
      "metadata": {
        "id": "qm2VyJu7x7kP"
      },
      "source": [
        "In this lab, we are going to practice *iterating* over our data. This is where we look at the data one bit at a time. We're going to look at three different files. For each file, we're going to look at the data one year at a time. And then we'll make a figure.\n",
        "\n",
        "Let's get started!"
      ]
    },
    {
      "cell_type": "code",
      "metadata": {
        "colab": {
          "base_uri": "https://localhost:8080/"
        },
        "id": "luF_aZITx7kQ",
        "outputId": "6865842d-3f83-4080-f035-31489e7e8649"
      },
      "source": [
        "from text_analytics import text_analytics\n",
        "import os\n",
        "import pandas as pd\n",
        "import seaborn as sns\n",
        "from matplotlib import pyplot as plt\n",
        "\n",
        "\n",
        "ai = text_analytics()\n",
        "print(\"Done!\")"
      ],
      "execution_count": null,
      "outputs": [
        {
          "output_type": "stream",
          "text": [
            "Done!\n"
          ],
          "name": "stdout"
        }
      ]
    },
    {
      "cell_type": "markdown",
      "metadata": {
        "id": "xM4hxNcOx7kR"
      },
      "source": [
        "Now we have three sets of articles to look at, from *Business Insider* and *Politico* and *TechCrunch*. So here we define a list of filenames, and then we open each file in the list.\n",
        "\n",
        "Once we've opened each file, we use groupby to look at each year on its own."
      ]
    },
    {
      "cell_type": "code",
      "metadata": {
        "colab": {
          "base_uri": "https://localhost:8080/"
        },
        "id": "-olu57M3x7kS",
        "outputId": "393ef844-f659-4f62-c7da-7974d5b9a0ff"
      },
      "source": [
        "files = [\"Wordclouds.Business_Insider.gz\", \"Wordclouds.Politico.gz\", \"Wordclouds.TechCrunch.gz\"]\n",
        "for file in files:\n",
        "    name = file\n",
        "    file = os.path.join(ai.data_dir, file)\n",
        "    df = pd.read_csv(file, index_col = 0)\n",
        "\n",
        "    for year, year_df in df.groupby(\"Year\"):\n",
        "        print(name, year, len(year_df))\n",
        "        \n",
        "print(\"Done!\")"
      ],
      "execution_count": null,
      "outputs": [
        {
          "output_type": "stream",
          "text": [
            "Wordclouds.Business_Insider.gz 2016 3243\n",
            "Wordclouds.Business_Insider.gz 2017 2874\n",
            "Wordclouds.Business_Insider.gz 2018 2204\n",
            "Wordclouds.Business_Insider.gz 2019 33729\n",
            "Wordclouds.Business_Insider.gz 2020 15903\n",
            "Wordclouds.Politico.gz 2016 12234\n",
            "Wordclouds.Politico.gz 2017 12105\n",
            "Wordclouds.Politico.gz 2018 9983\n",
            "Wordclouds.Politico.gz 2019 9586\n",
            "Wordclouds.Politico.gz 2020 2469\n",
            "Wordclouds.TechCrunch.gz 2016 12898\n",
            "Wordclouds.TechCrunch.gz 2017 12973\n",
            "Wordclouds.TechCrunch.gz 2018 11955\n",
            "Wordclouds.TechCrunch.gz 2019 11499\n",
            "Wordclouds.TechCrunch.gz 2020 2770\n",
            "Done!\n"
          ],
          "name": "stdout"
        }
      ]
    },
    {
      "cell_type": "markdown",
      "metadata": {
        "id": "ckZCd85Vx7kS"
      },
      "source": [
        "It takes a few minutes to read through each of these files (most of that time is spent loading them into memory). But this code lets us iterate through a year-by-year census. Now, let's do it again, but this time we'll save the results and make a figure."
      ]
    },
    {
      "cell_type": "code",
      "metadata": {
        "colab": {
          "base_uri": "https://localhost:8080/"
        },
        "id": "gwlRbnbpx7kT",
        "outputId": "cb891b42-06f1-4c24-ac54-f6bd03159c1e"
      },
      "source": [
        "files = [\"Wordclouds.Business_Insider.gz\", \"Wordclouds.Politico.gz\", \"Wordclouds.TechCrunch.gz\"]\n",
        "counts = []\n",
        "for file in files:\n",
        "    name = file.replace(\"Wordclouds.\",\"\").replace(\".gz\",\"\")\n",
        "    file = os.path.join(ai.data_dir, file)\n",
        "    df = pd.read_csv(file, index_col = 0)\n",
        "\n",
        "    for year, year_df in df.groupby(\"Year\"):\n",
        "        counts.append([name, year, len(year_df)])\n",
        "        \n",
        "counts = pd.DataFrame(counts, columns = [\"Dataset\", \"Year\", \"N. Articles\"])\n",
        "print(counts)\n",
        "print(\"Done!\")"
      ],
      "execution_count": null,
      "outputs": [
        {
          "output_type": "stream",
          "text": [
            "             Dataset  Year  N. Articles\n",
            "0   Business_Insider  2016         3243\n",
            "1   Business_Insider  2017         2874\n",
            "2   Business_Insider  2018         2204\n",
            "3   Business_Insider  2019        33729\n",
            "4   Business_Insider  2020        15903\n",
            "5           Politico  2016        12234\n",
            "6           Politico  2017        12105\n",
            "7           Politico  2018         9983\n",
            "8           Politico  2019         9586\n",
            "9           Politico  2020         2469\n",
            "10        TechCrunch  2016        12898\n",
            "11        TechCrunch  2017        12973\n",
            "12        TechCrunch  2018        11955\n",
            "13        TechCrunch  2019        11499\n",
            "14        TechCrunch  2020         2770\n",
            "Done!\n"
          ],
          "name": "stdout"
        }
      ]
    },
    {
      "cell_type": "markdown",
      "metadata": {
        "id": "vXXp92tnx7kT"
      },
      "source": [
        "So that table gives us the results. And now we just plot it. This time we'll use the *seaborn* package rather than the native *pandas* plotting."
      ]
    },
    {
      "cell_type": "code",
      "metadata": {
        "colab": {
          "base_uri": "https://localhost:8080/",
          "height": 299
        },
        "id": "Yk-VXFpYx7kT",
        "outputId": "ed2e0bcc-4498-46e2-80fb-6ad3346d14a6"
      },
      "source": [
        "sns.barplot(x = \"Dataset\", y = \"N. Articles\", hue = \"Year\", data = counts)\n",
        "plt.show()\n",
        "print(\"Done!\")"
      ],
      "execution_count": null,
      "outputs": [
        {
          "output_type": "display_data",
          "data": {
            "image/png": "[encoded data removed]",
            "text/plain": [
              "<Figure size 432x288 with 1 Axes>"
            ]
          },
          "metadata": {
            "tags": [],
            "needs_background": "light"
          }
        },
        {
          "output_type": "stream",
          "text": [
            "Done!\n"
          ],
          "name": "stdout"
        }
      ]
    },
    {
      "cell_type": "markdown",
      "metadata": {
        "id": "bh_cC16mx7kT"
      },
      "source": [
        "And that's all for this lab! We've seen that we can iterate over files and categories in order to survey our data."
      ]
    },
    {
      "cell_type": "code",
      "metadata": {
        "id": "0oLHoRmux7kU"
      },
      "source": [
        ""
      ],
      "execution_count": null,
      "outputs": []
    }
  ]
}