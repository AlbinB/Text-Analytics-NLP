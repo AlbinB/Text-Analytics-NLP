{
  "nbformat": 4,
  "nbformat_minor": 0,
  "metadata": {
    "colab": {
      "name": "1.2.3.Vectorizing+Text.ipynb",
      "provenance": [],
      "collapsed_sections": [],
      "authorship_tag": "ABX9TyOeswqgemOx2+cbtxpllZdO",
      "include_colab_link": true
    },
    "kernelspec": {
      "name": "python3",
      "display_name": "Python 3"
    }
  },
  "cells": [
    {
      "cell_type": "markdown",
      "metadata": {
        "id": "view-in-github",
        "colab_type": "text"
      },
      "source": [
        "<a href=\"https://colab.research.google.com/github/AlbinB/Text-Analytics-NLP/blob/main/1_2_3_Vectorizing%2BText.ipynb\" target=\"_parent\"><img src=\"https://colab.research.google.com/assets/colab-badge.svg\" alt=\"Open In Colab\"/></a>"
      ]
    },
    {
      "cell_type": "markdown",
      "metadata": {
        "id": "jcEXeJny9C8i"
      },
      "source": [
        "# Lecture Notes"
      ]
    },
    {
      "cell_type": "markdown",
      "metadata": {
        "id": "x3N6XEwx9Iv_"
      },
      "source": [
        "<h2>Text as Numbers</h2>\n",
        "\n",
        "**We need to convert text into numeric representations to translate language for machines.**\n",
        "\n",
        "So this gives us a representation of digital texts that looks a bit like human language. Now we need to make that into something that a machine can read. Remember that idea of linguistic space we mentioned? It’s a metaphor that says every text exists in a particular location. Imagine I have a stack of alphabet blocks: I can measure how close “A” is to “F”. I can measure whether “A” is closer to “F” than “G” is. That is exactly what we want to do for words and texts.\n",
        "\n",
        "But our stack of documents is enormous, unlike our stack of alphabet blocks. Our data set of hotel reviews contains 620 million words, with a vocabulary of 661,000 unique words. This is a lot of distances to measure out. So we move into a high-dimensional space. Humans exist in just 4 dimensions. Text analytics here could use over 100k dimensions. Let’s see what this looks like.\n",
        "\n",
        "<br>\n",
        "\n",
        "1. My neighbor sang a song about tulips.\n",
        "\n",
        "2. My neighbor sang a song about my neighbor.\n",
        "\n",
        "3. My neighbor sang a song about my tulips.\n",
        "\n",
        "\n",
        "Here we have three sentences. Our first step is make a vocabulary like a table, where each word is a column (up and down) and each sentence is a row (left to right). The vocabulary looks like this when we go in alphabetic order:\n"
      ]
    },
    {
      "cell_type": "markdown",
      "metadata": {
        "id": "CJOMqE0uh26w"
      },
      "source": [
        "\n",
        "\n",
        "![image.png](data:image/png;base64,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)"
      ]
    },
    {
      "cell_type": "markdown",
      "metadata": {
        "id": "S5hXmLcuh5x9"
      },
      "source": [
        "So now I just count how many times each word occurs in each sentence. This is frequency. Again, words are columns and sentences are rows. The first sentence has the word neighbor just one time; but the second sentence has it twice. So we write out all the word frequencies.\n",
        "\n",
        "This gives us a **frequency vector**. The reason these vectors make sense to a machine is that we can measure the distance between them. We can compare vectors. Sentence (2) is about half-way between sentence (1) and sentence (3). You’re thinking, this seems pretty trivial. But in text analytics we work with 20k or 50k or 100k dimensions. When this linguistic space gets really big, our distance measures get really good. But the basic idea to remember here is that this let’s us write every possible sentence in a single form before we feed it into the machine"
      ]
    },
    {
      "cell_type": "markdown",
      "metadata": {
        "id": "oxUCvdLg9Dcp"
      },
      "source": [
        "# Colab Setup"
      ]
    },
    {
      "cell_type": "code",
      "metadata": {
        "id": "Sb6uzL9u9SPu",
        "colab": {
          "base_uri": "https://localhost:8080/"
        },
        "outputId": "1758b3c1-aa6f-4607-ee05-f332e1420b9c"
      },
      "source": [
        "# if you are running these labs in CoLab, you will first need to mount the drive and \n",
        "# copy text_analitics.py to path \n",
        "\n",
        "from google.colab import drive\n",
        "drive.mount('/content/drive/')"
      ],
      "execution_count": 1,
      "outputs": [
        {
          "output_type": "stream",
          "text": [
            "Mounted at /content/drive/\n"
          ],
          "name": "stdout"
        }
      ]
    },
    {
      "cell_type": "code",
      "metadata": {
        "id": "1QfUtbEV9Si9",
        "colab": {
          "base_uri": "https://localhost:8080/"
        },
        "outputId": "91cbc943-c565-4038-9fc3-6c6f8e024641"
      },
      "source": [
        "###Add text_analytics.py to path \n",
        "!cp \"/content/drive/My Drive/Colab Notebooks/CourseWork/Text Analytics and Natural Language Processing/text_analytics.py\" .\n",
        "print(\"Done!\")"
      ],
      "execution_count": 2,
      "outputs": [
        {
          "output_type": "stream",
          "text": [
            "Done!\n"
          ],
          "name": "stdout"
        }
      ]
    },
    {
      "cell_type": "markdown",
      "metadata": {
        "id": "jzMC7zDN9Dxo"
      },
      "source": [
        "# Lecture Lab"
      ]
    },
    {
      "cell_type": "markdown",
      "metadata": {
        "id": "9Fa5uZ6YufGK"
      },
      "source": [
        "In this lab, we'll be looking at how to turn a text into numbers. A numeric representation like this is called a *vector*. And so the process of turning language into numbers is called vectorizing. We'll start, as always, by loading our environment."
      ]
    },
    {
      "cell_type": "code",
      "metadata": {
        "colab": {
          "base_uri": "https://localhost:8080/"
        },
        "id": "2BYByqJoufGM",
        "outputId": "9382f63d-1ea1-4a35-c6a2-341ae14bcd22"
      },
      "source": [
        "from text_analytics import text_analytics\n",
        "from sklearn.feature_extraction.text import CountVectorizer\n",
        "import os\n",
        "import pandas as pd\n",
        "\n",
        "ai = text_analytics()\n",
        "print(\"Done!\")"
      ],
      "execution_count": 3,
      "outputs": [
        {
          "output_type": "stream",
          "text": [
            "Done!\n"
          ],
          "name": "stdout"
        }
      ]
    },
    {
      "cell_type": "markdown",
      "metadata": {
        "id": "qt1hELpHufGM"
      },
      "source": [
        "We'll work with articles about corruption, like last time."
      ]
    },
    {
      "cell_type": "code",
      "metadata": {
        "colab": {
          "base_uri": "https://localhost:8080/"
        },
        "id": "xBjPgu-MufGN",
        "outputId": "c6b26d71-e806-493f-f2f8-2b7e8529a5e7"
      },
      "source": [
        "file = \"NYT.Corruption.gz\"\n",
        "file =  os.path.join(ai.data_dir, file)\n",
        "df = pd.read_csv(file, index_col = 0)\n",
        "print(df)\n",
        "print(\"Done!\")"
      ],
      "execution_count": 25,
      "outputs": [
        {
          "output_type": "stream",
          "text": [
            "         Country       Class                                               Text\n",
            "0      Argentina       Other  Secretary of State Madeleine Albright, visitin...\n",
            "1      Argentina  Corruption  Argentine Pres Fernando de la Rua denies recen...\n",
            "2      Argentina       Other  British Telecommunications PLC plans to invest...\n",
            "3      Argentina       Other  Shareholders clear $650 million rescue package...\n",
            "4      Argentina       Other  United States International Trade Commission r...\n",
            "...          ...         ...                                                ...\n",
            "19310  Venezuela       Other  Representative Ilhan Omar, a Minnesota Democra...\n",
            "19311  Venezuela       Other  Secretary of State Mike Pompeo made his first ...\n",
            "19312  Venezuela       Other  President Nicolás Maduro has long enjoyed the ...\n",
            "19313  Venezuela       Other  Secretary of State Mike Pompeo discussed diffe...\n",
            "19314  Venezuela       Other  Juan Guaidó, the Venezuelan opposition leader,...\n",
            "\n",
            "[19315 rows x 3 columns]\n",
            "Done!\n"
          ],
          "name": "stdout"
        }
      ]
    },
    {
      "cell_type": "markdown",
      "metadata": {
        "id": "37_6SEhLufGN"
      },
      "source": [
        "So, here we are going to run some code to initialize the vectorizer. We're using one from *scikit-learn*. And initializing means that we're creating the class, before we use it."
      ]
    },
    {
      "cell_type": "code",
      "metadata": {
        "colab": {
          "base_uri": "https://localhost:8080/"
        },
        "id": "Ri3MDvi5ufGN",
        "outputId": "329cd900-28e8-41ad-a741-e8fb6782c657"
      },
      "source": [
        "vectorizer = CountVectorizer(\n",
        "    input = \"content\", \n",
        "    preprocessor = ai.clean_pre,\n",
        "    analyzer = \"word\",\n",
        "    )\n",
        "\n",
        "print(\"Done!\")"
      ],
      "execution_count": 26,
      "outputs": [
        {
          "output_type": "stream",
          "text": [
            "Done!\n"
          ],
          "name": "stdout"
        }
      ]
    },
    {
      "cell_type": "markdown",
      "metadata": {
        "id": "8hl2N927ufGN"
      },
      "source": [
        "Now, we'll go ahead and use it."
      ]
    },
    {
      "cell_type": "code",
      "metadata": {
        "colab": {
          "base_uri": "https://localhost:8080/"
        },
        "id": "guJJ5pPSufGO",
        "outputId": "d3ec1e63-2d63-4527-b575-8ae2eaaf253a"
      },
      "source": [
        "line = ai.print_sample(df)\n",
        "vector = vectorizer.fit_transform([line])\n",
        "print(vector)\n",
        "print(\"Done!\")"
      ],
      "execution_count": 27,
      "outputs": [
        {
          "output_type": "stream",
          "text": [
            "['The Times’s Marcus Mabry and Lydia Polgreen in Pretoria, South Africa, report on developments in the Oscar Pistorius case.']\n",
            "  (0, 15)\t2\n",
            "  (0, 16)\t1\n",
            "  (0, 7)\t1\n",
            "  (0, 6)\t1\n",
            "  (0, 1)\t1\n",
            "  (0, 5)\t1\n",
            "  (0, 11)\t1\n",
            "  (0, 4)\t2\n",
            "  (0, 12)\t1\n",
            "  (0, 14)\t1\n",
            "  (0, 0)\t1\n",
            "  (0, 13)\t1\n",
            "  (0, 8)\t1\n",
            "  (0, 3)\t1\n",
            "  (0, 9)\t1\n",
            "  (0, 10)\t1\n",
            "  (0, 2)\t1\n",
            "Done!\n"
          ],
          "name": "stdout"
        }
      ]
    },
    {
      "cell_type": "markdown",
      "metadata": {
        "id": "agmOAA10ufGO"
      },
      "source": [
        "So, the first thing we've displayed is the string. And the second thing we've displayed is the vectorized or numeric version of that string.\n",
        "\n",
        "This is currently in a *sparse* format, so that not every element has to be displayed. We'll show the full version, though."
      ]
    },
    {
      "cell_type": "code",
      "metadata": {
        "colab": {
          "base_uri": "https://localhost:8080/"
        },
        "id": "PKY8-xT9ufGO",
        "outputId": "c2c965ea-227e-42ac-9cee-5d539d2d110c"
      },
      "source": [
        "#line = ai.print_sample(df)\n",
        "print(line)\n",
        "vector = vectorizer.fit_transform([line]).todense()\n",
        "print(vector)\n",
        "print(\"Done!\")"
      ],
      "execution_count": 29,
      "outputs": [
        {
          "output_type": "stream",
          "text": [
            "The Times’s Marcus Mabry and Lydia Polgreen in Pretoria, South Africa, report on developments in the Oscar Pistorius case.\n",
            "[[1 1 1 1 2 1 1 1 1 1 1 1 1 1 1 2 1]]\n",
            "Done!\n"
          ],
          "name": "stdout"
        }
      ]
    },
    {
      "cell_type": "markdown",
      "metadata": {
        "id": "_AKkT7FEufGO"
      },
      "source": [
        "Let's finish up by making this into a nice dataframe."
      ]
    },
    {
      "cell_type": "code",
      "metadata": {
        "colab": {
          "base_uri": "https://localhost:8080/"
        },
        "id": "Ss2h9tDZufGO",
        "outputId": "19c20a59-d243-4dfc-d031-c5597d8faa82"
      },
      "source": [
        "#line = ai.print_sample(df)\n",
        "print(line)\n",
        "vector = vectorizer.fit_transform([line])\n",
        "vector = ai.print_vector(vector, vectorizer)\n",
        "print(vector)\n",
        "print(\"Done!\")"
      ],
      "execution_count": 30,
      "outputs": [
        {
          "output_type": "stream",
          "text": [
            "The Times’s Marcus Mabry and Lydia Polgreen in Pretoria, South Africa, report on developments in the Oscar Pistorius case.\n",
            "              0\n",
            "africa        1\n",
            "and           1\n",
            "case          1\n",
            "developments  1\n",
            "in            2\n",
            "lydia         1\n",
            "mabry         1\n",
            "marcus        1\n",
            "on            1\n",
            "oscar         1\n",
            "pistorius     1\n",
            "polgreen      1\n",
            "pretoria      1\n",
            "report        1\n",
            "south         1\n",
            "the           2\n",
            "times         1\n",
            "Done!\n"
          ],
          "name": "stdout"
        }
      ]
    },
    {
      "cell_type": "markdown",
      "metadata": {
        "id": "-L3TWk_1ufGP"
      },
      "source": [
        "Some of this code is a bit dense, but try out a few sentences. The point is that this transforms each sentence in a list of numbers. And tells us what each number in that vector corresponds to. So, in this lab we've taken a first look at how to vectorize our texts.\n",
        "\n",
        "Try it out yourself: use the code block below to make some vectors from this file:\n",
        "    \n",
        "    \"Gutenberg.1850.Authors.gz\""
      ]
    },
    {
      "cell_type": "code",
      "metadata": {
        "id": "oFHIjbTpufGP",
        "colab": {
          "base_uri": "https://localhost:8080/"
        },
        "outputId": "53fd6d3f-348f-420e-c445-eddcffc55907"
      },
      "source": [
        "file = \"Gutenberg.1850.Authors.gz\"\n",
        "file =  os.path.join(ai.data_dir, file)\n",
        "df = pd.read_csv(file, index_col = 0)\n",
        "print(df)"
      ],
      "execution_count": 36,
      "outputs": [
        {
          "output_type": "stream",
          "text": [
            "        index  ...                                               Text\n",
            "0         150  ...  note project gutenberg also has an html versio...\n",
            "1         151  ...  it will be recollected to epirus where her fri...\n",
            "2         152  ...  it would be best to endeavor to effect a landi...\n",
            "3         153  ...  transport his army across the straits the army...\n",
            "4         154  ...  that the true greatness of the soul of alexand...\n",
            "...       ...  ...                                                ...\n",
            "17042  125483  ...  since i have been with amabel it hath waxed st...\n",
            "17043  125484  ...  his face uttered a loud cry and shrank back af...\n",
            "17044  125485  ...  the taurus mountains made the afternoon balmy ...\n",
            "17045  125486  ...  me to a place not very far distant where all m...\n",
            "17046  125487  ...  never knew these things before now thou dost r...\n",
            "\n",
            "[15999 rows x 5 columns]\n"
          ],
          "name": "stdout"
        }
      ]
    },
    {
      "cell_type": "code",
      "metadata": {
        "colab": {
          "base_uri": "https://localhost:8080/"
        },
        "id": "L75IKOj4oL_F",
        "outputId": "d055d12f-bdb9-4ddc-ff25-397ab8cd4ba5"
      },
      "source": [
        "#will reinstantiate vectorizer to reset the count\n",
        "\n",
        "vectorizer = CountVectorizer(\n",
        "    input = \"content\", \n",
        "    preprocessor = ai.clean_pre,\n",
        "    analyzer = \"word\",\n",
        "    )\n",
        "\n",
        "print(\"Done!\")"
      ],
      "execution_count": 32,
      "outputs": [
        {
          "output_type": "stream",
          "text": [
            "Done!\n"
          ],
          "name": "stdout"
        }
      ]
    },
    {
      "cell_type": "code",
      "metadata": {
        "colab": {
          "base_uri": "https://localhost:8080/"
        },
        "id": "tmRpUG4mntD2",
        "outputId": "fa29dac7-232f-44e0-ce39-7e1ca199055d"
      },
      "source": [
        "line = ai.print_sample(df)\n",
        "vector = vectorizer.fit_transform([line])\n",
        "print(vector)\n",
        "print(\"Done!\")"
      ],
      "execution_count": 33,
      "outputs": [
        {
          "output_type": "stream",
          "text": [
            "['particular let us respect whatever professor saintsbury writes who has done such splendid work upon english i daresay he would retort upon my impatience grandly enough quoting walt whitman i am the teacher of athletes he that by me spreads a wider breast than my own proves the width of my own he most honours my style who learns under it to destroy the teacher his speculations may lead to much in time though for the present they yield us small instruction in the path we seek it is time we harked back to our own verse is written in metre and strict rhythm prose without metre and with the freest possible rhythm that distinction seems simple enough but it carries consequences very far from simple let me give you an illustration taken almost at hazard from milton from the second book of paradise regained up to a hill anon his steps he reared from whose high top to ken the prospect round if cottage were in view or herd but cottage herd or none he saw these few lines are verse are obviously verse with the accent of poetry while as obviously they are mere narrative and tell us of the simplest possible incident how christ climbed a hill to learn what could be seen from the top yet observe line for line and almost word for word how strangely they differ from prose mark the inversions to a hill anon his steps he reared cottage herd or none he saw mark next the diction steps he reared in prose we should not rear our steps up the hills or even more alpine fastnesses nor arrived at the top should we the prospect round we might but should more probably it even is a tricky word in prose though i deliberately palmed it off on you a few minutes ago mark thirdly the varied repetition cottage were in view or herd but cottage herd or none he saw lastly compare the whole with such an account as you or i or cluvienus would write in plain prose thereupon he climbed a hill on the chance that the view from its summit might disclose some sign of human habitation a herd a a cottage perhaps but he could see nothing of the sort but you will ask should verse and prose employ diction so different should the one invert the order of words in a fashion not permitted to the other and i shall endeavour to answer these questions together with a third which i dare say you have sometimes been minded to put when you have been told and truthfully told by your manuals and histories that when a nation of men starts making literature it invariably starts on the difficult emprise of verse and goes on to prose as by an afterthought why should men start upon the more difficult form and proceed to the easier it is not their usual way in learning to skate for instance they do not cut figures before practising loose and easy propulsion the answer is fairly simple literature once more is a record of memorable speech it preserves in words a record of such thoughts or of such deeds as we deem worth preserving now if you will imagine yourself a very primitive man lacking paper or parchment or a slightly less primitive but very poor man to whom the price of parchment and ink is prohibitive you have two ways of going to work you can carve your words upon trees or stones a laborious process or you can commit them to memory and carry them about in your head which is cheaper and handier for an illustration you find it useful anticipating the to know how many days there are in the current month but further you find it a nuisance and a ruinous waste of time to run off to the tribal tree or monolith whenever the calculation comes up so you invent a formula and you cast that formula into for the simple reason that verse with its tags alliterations beat of syllables jingle of rhymes however your tribe has chosen to invent it has a knack not possessed by prose of sticking in your head you do not say thy tablets memory let me see january has days february days march days april days you invent a verse thirty days hath september april june and november nay it has been whispered to me gentlemen that in this university some such process of memorising in verse has been applied by bold bad men even to the evidences of our cherished paley this you will say is mere verse and not yet within measurable distance of poetry but wait the men who said the more memorable things or sang them the men who recounted deeds and genealogies of heroes plagues and famines assassinations escapes from captivity wanderings and conquests of the clan all the unhappy things and battles long ago the men who sang these things for their living for a supper a bed in the great hall and something in their wallet to carry them on to the next lordship these were gentlemen scôps bards minstrels call them how you will a professional class who had great need of a full repertory in a land swarming with petty chieftains and to adapt their strains to the particular hall of entertainment it would never do for example to flatter the prowess of the billings in the house of the hoppings their hereditary foes or to bore the wokings who lived where the crematorium now is with the complicated genealogy of the tootings for this would have been to miss that appropriateness which i preached to you in my second lecture as a preliminary rule of good writing nay when the billings intermarried with the tootings when the billings took to cooing so to speak a hasty blend of excerpts would be required for the epithalamium so it was all a highly difficult business needing adaptability a quick wit a goodly stock of songs a retentive memory and every artifice to assist it take widsith for example the man he begins widsith spake he unlocked his so he had a hoard of words you see and he must have needed them for he goes on forthon ic maeg singan and secgan spell maenan fore mengo in meoduhealle hu me cynegode cystum dohten ic waes mid hunum and mid mid sweom and mid geatum and mid mid wenlum ic waes and mid waernum and mid wicingum mid gefthum ic waes and mid winedum therefore i can sing and tell a tale recount in the mead hall how men of high race gave rich gifts to me i was with huns and with hreth goths with the swedes and with the geats and with the south danes i was with the wenlas and with the waernas and with the vikings i was with the gefthas and with the winedae and so on for a full dozen lines i say that the memory of such men must have needed every artifice to help it and the chief artifice to their hand was one which also delighted the ears of their listeners they sang or intoned to the harp there you get it gentlemen i have purposely skimming a wide subject discarded much ballast but you may read and scan and read again and always you must come back to this that the first poets sang their words to the harp or to some such instrument and just there lies the secret why poetry differs from prose the moment you introduce music you let in emotion with all its sway upon speech from that moment you change everything down to the order of the words the order of the words and remember this though the harp be superseded the voice never forgets it you may take up a barrack room ballad of kipling and it is there though you affect to despise it for a banjo or concertina ford ford ford of kabul river whang whang goes the drum the fife from the moment men introduced music they made verse a thing essentially separate from prose from its natural key of emotion to its natural ordering of words do not for one moment imagine that when milton writes but cottage herd or none he saw or of man first disobedience and the fruit of that forbidden tree where you must seek down five lines before you come to the verb and then find it in the imperative mood do not suppose for a moment that he is here fantastically shifting words inverting phrases out of their natural order for as st paul might say there is a natural order of prose and there is a natural order of verse the natural order of prose is i was born in the year in the city of york of a good family though not of that county my father being a foreigner of bremen who settled first in or further i avow to your highness that with these eyes i have beheld the person of william wooton who has written a good sizeable volume against a friend of your governor from whom alas he must therefore look for little favour in a most gentlemanly style adorned with the utmost politeness and the natural order of poetry is thus with the year seasons return but not to me returns day or the sweet approach of or morn or sight of vernal bloom or summer rose or flocks or herds or human face divine or but cottage herd or none he saw and this basal difference you must have clear in your minds before in dealing with prose or verse you can practise either with profit or read either with intelligent delight lecture iv on the capital difficulty of verse thursday april in our last lecture gentlemen we discussed the difference between verse or metrical writing and prose we traced that difference as you will remember to music to the harp the lyre the dance the chorus all those first necessary accompaniments which verse never quite forgets and we concluded that as music ever introduces emotion which is indeed her proper and only means of persuading so the natural language of verse will be keyed higher than the natural language of prose will be keyed higher throughout and even for its most ordinary purposes as for example to tell us that sailed to troy with so many ships i grant you that our steps to this conclusion were lightly and rapidly taken yet the are historically firm verse does precede prose in literature verse does start with musical accompaniment musical accompaniment does introduce emotion and emotion does introduce an order of its own into speech i grant you that we have travelled far from the days when a herodotus labelled the books of his history by the names of the nine muses i grant you that if you go to the vatican and there study the statues of the muses noble but of no early date you may note that calliope muse of the epic unlike her sisters euterpe erato thalia holds for symbol no instrument of music but a stylus and a tablet yet the earlier calliope the calliope of homer was a muse of song greek menin aeide thea i a thousand tongues a thousand hands for what purpose does the poet wish for a thousand tongues but to sing for what purpose a thousand hands but to pluck the wires not to dip a thousand pens in a thousand inkpots i doubt in fine if your most learned studies will discover much amiss with the frontier we drew between verse and prose cursorily though we ran its line nor am i daunted on comparing it with coleridge more philosophical one which you will find in the biographia literaria xviii and first for the origin of metre this i would trace to the balance in the mind effected by that spontaneous effort which strives to hold in check the workings of passion it might be easily explained likewise in what manner this salutary antagonism is assisted by the very state which it counteracts and how this balance of antagonism becomes organised into metre in the usual acceptation of that term by a supervening act of the will and judgment consciously and for the foreseen purpose of pleasure i will not swear to understand precisely what coleridge means here though i believe that i do but at any rate and on the principle that of two hypotheses each in itself adequate we should choose the simpler i suggest in all modesty that we shall do better with our own than with coleridge which has the further disadvantage of being scarcely amenable to positive evidence we can say with historical warrant that sappho struck the lyre and argue therefrom still within close range of correction that her singing responded to the instrument whereas to assert that sappho mind balanced by a spontaneous effort which strove to hold in check the workings of passion is to say something for which positive evidence will be less handily found whether to contradict or to support yet if you choose to prefer coleridge explanation no great harm will be done since coleridge who may be presumed to have understood it promptly goes on to deduce that as the elements of metre owe their existence to a state of increased excitement so the metre itself should be accompanied by the natural language of excitement which is precisely where we found ourselves save that where coleridge uses the word we used the word shall we employ an illustration before proceeding some sentence easily handled some commonplace of the moralist some copybook maxim i care not what breeds happiness that is a proposition with which you can hardly quarrel sententious sedate obviously true provoking delirious advocacy as little as controversial heat in short a very fair touchstone now hear how the lyric treats it in these lines of dekker art thou poor yet hast thou golden slumbers o sweet content art thou rich yet is thy mind perplex o punishment dost thou laugh to see how fools are to add to golden numbers golden numbers o sweet content o sweet o sweet content work apace apace apace apace honest labour wears a lovely face then hey nonny nonny hey nonny nonny canst drink the waters of the crystal spring o sweet content thou in wealth yet in thine own tears o punishment then he that patiently want burden bears no burden bears but is a king a king o sweet content o sweet o sweet content work apace apace apace apace honest labour wears a lovely face then hey nonny nonny hey nonny nonny there in lines obviously written for music you have our sedate sentence breeds happiness converted to mere emotion note to use coleridge word the of it there are but two plain indicative sentences in the two stanzas labour wears a lovely face used as a refrain and he that patiently burden bears no burden bears but is a king a king heightened emotionally by inversion and double repetition mark throughout how broken is the utterance antithetical question answered by exclamations both doubled and made more antithetical in the second stanza with cunning reduplicated inversions to follow and each stanza wound up by an outburst of emotional nonsense nonny nonny hey nonny nonny as a man might skip or whistle to himself for want of thought now still keeping to our same subject of contentment let us the lyrical order of language down to the lowest pitch to which genius has been able to reduce it and still make noble verse you have all read wordsworth famous introduction to the lyrical ballads and you know that wordsworth was a genius working on a theory that the languages of verse and of prose are identical you know too i dare say into what banalities that theory over and over again betrayed him banalities such as his widowed mother for a second mate espoused the teacher of the village school who on her offspring zealously bestowed needful instruction and the rest nevertheless wordsworth was a genius and genius working persistently on a narrow theory will now and again it off as they say so he amid the flat waste of his later compositions did undoubtedly it off in the following sonnet these times strike monied worldlings with dismay rich men brave by nature taint the air with words of apprehension and despair while tens of thousands thinking on the affray men unto whom sufficient for the day and minds not stinted or untill are given sound healthy children of the god of heaven are cheerful as the rising sun in may what do we gather hence but firmer faith that every gift of noble origin is breath upon by hope perpetual breath that virtue and the faculties within are vital and that riches are akin to fear to change to cowardice and death here i grant are no repetitions no inversions the sentences though metrical run straightforwardly verb following subject object verb as in strict prose in short here you have verse reduced to the order and structure of prose as nearly as a man of genius working on a set theory could reduce it while yet maintaining its proper emotional key but first let me say that you will find very few like instances of success even in wordsworth and few indeed to set against innumerable passages wherein either his verse defies his theory and triumphs or succumbs to it and succumbing either drops sheer to bathos or spreads itself over dead flats of commonplace let me tell you next that the instances you will find in other poets are so few and so far between as to be negligible and lastly that even such verse as the above has only to be compared with a passage of prose and its emotional pitch is at once betrayed take this for example from jeremy taylor since all the evil in the world consists in the disagreeing between the object and the appetite as when a man hath what he desires not or desires what he hath not or desires amiss he that compares his spirit to the present accident hath variety of instance for his virtue but none to trouble him because his desires enlarge not beyond his present fortune and a wise man is placed in a variety of chances like the nave or centre of a wheel in the midst of all the circumvolutions and changes of posture without violence or change save that it turns gently in compliance with its changed parts and is indifferent which part is up and which is down for there is some virtue or other to be exercised whatever happens either patience or thanksgiving love or fear moderation or humility charity or contentedness or take this from samuel johnson the fountain of contentment must spring up in the mind and he who has so little knowledge of human nature as to seek happiness by changing anything but his own disposition will waste his life in fruitless efforts and multiply the griefs which he purposes to remove now to be frank i do not call that first passage very good prose like much of jeremy taylor writing it is prose tricked out with the trappings and of verse it starts off for example with a brace of heroics all the evil in the world consists the object and the appetite you may say further that the simile of the wheel though proper enough to prose is poetical too that homer might have used it in a wheel the rim turns violently while the nave though it turns also yet seems to be at rest something of that sort nevertheless you will agree with me that in exchanging wordsworth for taylor and johnson we have relaxed something with the metre something that the metre kept taut and this something we discover to be the emotional pitch but let me give you another illustration supplied i dare say quite unconsciously by one who combined a genuine love of verse in which however he was no adept with a sure instinct for beautiful prose contentment was a favourite theme with isaak walton the compleat angler is packed with praise of it and in the compleat angler occurs this passage but master first let me tell you that very hour which you were absent from me i sat down under a willow tree by the waterside and considered what you had told me of the owner of that pleasant meadow in which you then had left me that he had a plentiful estate and not a heart to think so that he had at this time many depending and that they both damped his mirth and took up so much of his time and thoughts that he had no leisure to take the sweet content that i who pretended no title to them took in his fields for i could there sit quietly and looking on the water see some fishes sport themselves in the silver streams others leaping at flies of several shapes and colours looking on the hills i could behold them spotted with woods and groves looking down the meadows could see here a boy gathering lilies and and there a girl cropping culverlocks and cowslips all to make garlands suitable to this present month of may these and many other so perfumed the air that i thought that very meadow like that field in sicily of which diodorus speaks where the perfumes arising from the place make all dogs that hunt in it to fall off and lose their hottest scent i say as i thus sat joying in my own happy condition and pitying this poor rich man that owned this and many other pleasant groves and meadows about me i did thankfully remember what my saviour said that the meek possess the earth or rather they enjoy what the others possess and enjoy not for anglers and meek men are free from those high those restless thoughts which corrode the sweets of life and they and they only can say as the poet has happily exprest it blest estate of lowliness happy enjoyments of such minds as rich in can like the reeds in roughest winds by yielding make that blow but small at which proud oaks and cedars fall there you have a passage of felicitous prose culminating in a stanza of trite and verse yes walton instinct is sound for he is keying up the pitch and verse even when mediocre in quality has its pitch naturally set above that of prose so if you will turn to your walton and read the page following this passage you will see that still by a sure instinct he proceeds from this scrap of reflective verse to a mere rollicking man life is but vain for is subject to pain and sorrow and short as a bubble is a of business and money and care and care and money and trouble which is even worse rubbish and yet a step upwards in emotion because venator actually sings it to music marry sir this is music indeed approves brother peter cheers the heart in this and the preceding lecture gentlemen i have enforced at some length the opinion that to understand the many essential differences between verse and prose we must constantly bear in mind that verse being metrical keeps the character originally imposed on it by musical accompaniment and must always however far the remove be referred back to its origin and to the emotion which music excites mr george bernard shaw having to commit his novel cashel profession to paper in a hurry chose to cast it in blank verse as being more easily and readily written so a performance which brilliantly illuminates a verse or at any rate unrhymed iambic verse is easier to write than prose if you care to leave out the emotion which makes verse characteristic and worth writing i have little doubt that had he chosen to attempt it mr shaw would have found his story still more ductile in the metre of hiawatha but the experiment proves nothing or no more than that all fine art costing labour it may cost less if burlesqued in a category not its own let me take an example from a work with which you are all familiar the student handbook to the university and colleges of cambridge on we read the medieval and modern languages tripos is divided into ten sections a b c d e f g h and i a student may take either one or two sections at the end of his second year of residence and either one or two more sections at the end of his third or fourth year of residence or he may take two sections at the end of his third year only thus this tripos can be treated either as a divided or as an undivided tripos at the option of the candidate now i do not hold that up to you for a model of prose still lucidity rather than emotion being its aim i doubt not that the composer spent pains on it more pains than it would have cost him to convey his information metrically thus there is a tripos that aspires to blend the medieval and the modern tongues in one red burial sing heavenly muse divided into sections a b c d e f g and h and i a student may take either one or two with some restrictions mention in a footnote at th expiration of his second year or of his third or of his fourth again take one or two or of his third alone take two together thus this tripos is like nothing in the athanasian creed divisible or indivisible at the option of the candidate gadzooks this method has even some advantage over the method of prose in that it is more easily memorised but it has as you will admit the one fatal flaw that it imports emotion into a theme which does not properly admit of emotion and that so it offends against our first rule of writing that it should be appropriate now if you accept the argument so far as we have led it that verse is by nature more emotional than prose certain consequences would seem to follow of which the first is that while the capital difficulty of verse consists in saying ordinary things the capital difficulty of prose consists in saying extraordinary things that while with verse keyed for high moments the trouble is to manage the intervals with prose the trouble is to manage the high moments let us dwell awhile on this difference for it is important you remember my quoting to you in my last lecture these lines of milton up to a hill anon his steps he reared from whose high top to ken the prospect round if cottage were in view or herd but cottage herd or none he saw we agreed that these were good lines with the accent of poetry but we allowed it to be a highly exalted way of telling how climbed a hill for a better view but found none now obviously this exaltation does not arise immediately out of the action described which is as ordinary as it well could be but is it borrows its wings its impetus from a previous high moment from the emotion proper to that moment from the speech proper to that emotion and these sustain us across to the next height as with the glide of an aeroplane your own sense will tell you at once that the passage would be merely bombastic if the poet were starting to set forth how climbed a hill for the view just that and nothing else as your own sense tells you that the swoop is from one height to another for if bathos lay ahead if milton had but to relate how the duke of york with twenty thousand men up a hill and then marched down again he certainly would not use diction such as up to a hill anon his steps he reared even as it is i think we must all detect a certain artificiality in the passage and confess to some relief when satan is introduced to us ten lines lower down to revivify the story for let us note that in the nature of things the more adorned and involved our style and is both ornate and involved the more difficulty we must find with these flat pedestrian intervals milton may it off largely through knowing how to dodge the interval and contrive that it shall at any rate be brief but as bagehot noted when we come to tennyson and find tennyson in enoch arden informing us of a that enoch white horse and enoch in osier in a and his face with a thousand winter gales not only to the market town were known but in the leafy lanes beyond the down far as the and peacock yewtree of the lonely hall whose friday fare was enoch ministering why then we feel that the vehicle is altogether too pompous for its load and those who make speech too pompous for its content commit albeit in varying degrees the error of defoe religious lady who seeing a bottle of beer explode and cork and froth fly up to the ceiling cried out the wonders of omnipotent power the poet who commends fresh fish to us as can cast no stone at his brother who writes of them as finny denizens of the\\r\\n']\n",
            "  (0, 923)\t2\n",
            "  (0, 728)\t12\n",
            "  (0, 1354)\t11\n",
            "  (0, 1058)\t1\n",
            "  (0, 1408)\t2\n",
            "  (0, 997)\t1\n",
            "  (0, 1086)\t1\n",
            "  (0, 1465)\t3\n",
            "  (0, 1422)\t18\n",
            "  (0, 557)\t15\n",
            "  (0, 345)\t2\n",
            "  (0, 1218)\t11\n",
            "  (0, 1176)\t1\n",
            "  (0, 1455)\t5\n",
            "  (0, 1352)\t6\n",
            "  (0, 381)\t1\n",
            "  (0, 288)\t1\n",
            "  (0, 564)\t40\n",
            "  (0, 1462)\t11\n",
            "  (0, 1064)\t1\n",
            "  (0, 841)\t10\n",
            "  (0, 630)\t1\n",
            "  (0, 534)\t1\n",
            "  (0, 386)\t3\n",
            "  (0, 1023)\t2\n",
            "  :\t:\n",
            "  (0, 40)\t1\n",
            "  (0, 1365)\t1\n",
            "  (0, 301)\t1\n",
            "  (0, 391)\t1\n",
            "  (0, 300)\t1\n",
            "  (0, 1050)\t1\n",
            "  (0, 703)\t1\n",
            "  (0, 1112)\t1\n",
            "  (0, 151)\t1\n",
            "  (0, 123)\t1\n",
            "  (0, 419)\t1\n",
            "  (0, 260)\t1\n",
            "  (0, 495)\t1\n",
            "  (0, 466)\t1\n",
            "  (0, 187)\t1\n",
            "  (0, 273)\t1\n",
            "  (0, 1449)\t1\n",
            "  (0, 886)\t1\n",
            "  (0, 971)\t1\n",
            "  (0, 227)\t1\n",
            "  (0, 490)\t1\n",
            "  (0, 457)\t1\n",
            "  (0, 1196)\t1\n",
            "  (0, 453)\t1\n",
            "  (0, 307)\t1\n",
            "Done!\n"
          ],
          "name": "stdout"
        }
      ]
    },
    {
      "cell_type": "code",
      "metadata": {
        "colab": {
          "base_uri": "https://localhost:8080/"
        },
        "id": "lXVazKqon78c",
        "outputId": "a94fe7ee-10d0-4775-ebba-60bf0617cfcb"
      },
      "source": [
        "#line = ai.print_sample(df)\n",
        "print(line)\n",
        "vector = vectorizer.fit_transform([line]).todense()\n",
        "print(vector)\n",
        "print(\"Done!\")"
      ],
      "execution_count": 34,
      "outputs": [
        {
          "output_type": "stream",
          "text": [
            "particular let us respect whatever professor saintsbury writes who has done such splendid work upon english i daresay he would retort upon my impatience grandly enough quoting walt whitman i am the teacher of athletes he that by me spreads a wider breast than my own proves the width of my own he most honours my style who learns under it to destroy the teacher his speculations may lead to much in time though for the present they yield us small instruction in the path we seek it is time we harked back to our own verse is written in metre and strict rhythm prose without metre and with the freest possible rhythm that distinction seems simple enough but it carries consequences very far from simple let me give you an illustration taken almost at hazard from milton from the second book of paradise regained up to a hill anon his steps he reared from whose high top to ken the prospect round if cottage were in view or herd but cottage herd or none he saw these few lines are verse are obviously verse with the accent of poetry while as obviously they are mere narrative and tell us of the simplest possible incident how christ climbed a hill to learn what could be seen from the top yet observe line for line and almost word for word how strangely they differ from prose mark the inversions to a hill anon his steps he reared cottage herd or none he saw mark next the diction steps he reared in prose we should not rear our steps up the hills or even more alpine fastnesses nor arrived at the top should we the prospect round we might but should more probably it even is a tricky word in prose though i deliberately palmed it off on you a few minutes ago mark thirdly the varied repetition cottage were in view or herd but cottage herd or none he saw lastly compare the whole with such an account as you or i or cluvienus would write in plain prose thereupon he climbed a hill on the chance that the view from its summit might disclose some sign of human habitation a herd a a cottage perhaps but he could see nothing of the sort but you will ask should verse and prose employ diction so different should the one invert the order of words in a fashion not permitted to the other and i shall endeavour to answer these questions together with a third which i dare say you have sometimes been minded to put when you have been told and truthfully told by your manuals and histories that when a nation of men starts making literature it invariably starts on the difficult emprise of verse and goes on to prose as by an afterthought why should men start upon the more difficult form and proceed to the easier it is not their usual way in learning to skate for instance they do not cut figures before practising loose and easy propulsion the answer is fairly simple literature once more is a record of memorable speech it preserves in words a record of such thoughts or of such deeds as we deem worth preserving now if you will imagine yourself a very primitive man lacking paper or parchment or a slightly less primitive but very poor man to whom the price of parchment and ink is prohibitive you have two ways of going to work you can carve your words upon trees or stones a laborious process or you can commit them to memory and carry them about in your head which is cheaper and handier for an illustration you find it useful anticipating the to know how many days there are in the current month but further you find it a nuisance and a ruinous waste of time to run off to the tribal tree or monolith whenever the calculation comes up so you invent a formula and you cast that formula into for the simple reason that verse with its tags alliterations beat of syllables jingle of rhymes however your tribe has chosen to invent it has a knack not possessed by prose of sticking in your head you do not say thy tablets memory let me see january has days february days march days april days you invent a verse thirty days hath september april june and november nay it has been whispered to me gentlemen that in this university some such process of memorising in verse has been applied by bold bad men even to the evidences of our cherished paley this you will say is mere verse and not yet within measurable distance of poetry but wait the men who said the more memorable things or sang them the men who recounted deeds and genealogies of heroes plagues and famines assassinations escapes from captivity wanderings and conquests of the clan all the unhappy things and battles long ago the men who sang these things for their living for a supper a bed in the great hall and something in their wallet to carry them on to the next lordship these were gentlemen scôps bards minstrels call them how you will a professional class who had great need of a full repertory in a land swarming with petty chieftains and to adapt their strains to the particular hall of entertainment it would never do for example to flatter the prowess of the billings in the house of the hoppings their hereditary foes or to bore the wokings who lived where the crematorium now is with the complicated genealogy of the tootings for this would have been to miss that appropriateness which i preached to you in my second lecture as a preliminary rule of good writing nay when the billings intermarried with the tootings when the billings took to cooing so to speak a hasty blend of excerpts would be required for the epithalamium so it was all a highly difficult business needing adaptability a quick wit a goodly stock of songs a retentive memory and every artifice to assist it take widsith for example the man he begins widsith spake he unlocked his so he had a hoard of words you see and he must have needed them for he goes on forthon ic maeg singan and secgan spell maenan fore mengo in meoduhealle hu me cynegode cystum dohten ic waes mid hunum and mid mid sweom and mid geatum and mid mid wenlum ic waes and mid waernum and mid wicingum mid gefthum ic waes and mid winedum therefore i can sing and tell a tale recount in the mead hall how men of high race gave rich gifts to me i was with huns and with hreth goths with the swedes and with the geats and with the south danes i was with the wenlas and with the waernas and with the vikings i was with the gefthas and with the winedae and so on for a full dozen lines i say that the memory of such men must have needed every artifice to help it and the chief artifice to their hand was one which also delighted the ears of their listeners they sang or intoned to the harp there you get it gentlemen i have purposely skimming a wide subject discarded much ballast but you may read and scan and read again and always you must come back to this that the first poets sang their words to the harp or to some such instrument and just there lies the secret why poetry differs from prose the moment you introduce music you let in emotion with all its sway upon speech from that moment you change everything down to the order of the words the order of the words and remember this though the harp be superseded the voice never forgets it you may take up a barrack room ballad of kipling and it is there though you affect to despise it for a banjo or concertina ford ford ford of kabul river whang whang goes the drum the fife from the moment men introduced music they made verse a thing essentially separate from prose from its natural key of emotion to its natural ordering of words do not for one moment imagine that when milton writes but cottage herd or none he saw or of man first disobedience and the fruit of that forbidden tree where you must seek down five lines before you come to the verb and then find it in the imperative mood do not suppose for a moment that he is here fantastically shifting words inverting phrases out of their natural order for as st paul might say there is a natural order of prose and there is a natural order of verse the natural order of prose is i was born in the year in the city of york of a good family though not of that county my father being a foreigner of bremen who settled first in or further i avow to your highness that with these eyes i have beheld the person of william wooton who has written a good sizeable volume against a friend of your governor from whom alas he must therefore look for little favour in a most gentlemanly style adorned with the utmost politeness and the natural order of poetry is thus with the year seasons return but not to me returns day or the sweet approach of or morn or sight of vernal bloom or summer rose or flocks or herds or human face divine or but cottage herd or none he saw and this basal difference you must have clear in your minds before in dealing with prose or verse you can practise either with profit or read either with intelligent delight lecture iv on the capital difficulty of verse thursday april in our last lecture gentlemen we discussed the difference between verse or metrical writing and prose we traced that difference as you will remember to music to the harp the lyre the dance the chorus all those first necessary accompaniments which verse never quite forgets and we concluded that as music ever introduces emotion which is indeed her proper and only means of persuading so the natural language of verse will be keyed higher than the natural language of prose will be keyed higher throughout and even for its most ordinary purposes as for example to tell us that sailed to troy with so many ships i grant you that our steps to this conclusion were lightly and rapidly taken yet the are historically firm verse does precede prose in literature verse does start with musical accompaniment musical accompaniment does introduce emotion and emotion does introduce an order of its own into speech i grant you that we have travelled far from the days when a herodotus labelled the books of his history by the names of the nine muses i grant you that if you go to the vatican and there study the statues of the muses noble but of no early date you may note that calliope muse of the epic unlike her sisters euterpe erato thalia holds for symbol no instrument of music but a stylus and a tablet yet the earlier calliope the calliope of homer was a muse of song greek menin aeide thea i a thousand tongues a thousand hands for what purpose does the poet wish for a thousand tongues but to sing for what purpose a thousand hands but to pluck the wires not to dip a thousand pens in a thousand inkpots i doubt in fine if your most learned studies will discover much amiss with the frontier we drew between verse and prose cursorily though we ran its line nor am i daunted on comparing it with coleridge more philosophical one which you will find in the biographia literaria xviii and first for the origin of metre this i would trace to the balance in the mind effected by that spontaneous effort which strives to hold in check the workings of passion it might be easily explained likewise in what manner this salutary antagonism is assisted by the very state which it counteracts and how this balance of antagonism becomes organised into metre in the usual acceptation of that term by a supervening act of the will and judgment consciously and for the foreseen purpose of pleasure i will not swear to understand precisely what coleridge means here though i believe that i do but at any rate and on the principle that of two hypotheses each in itself adequate we should choose the simpler i suggest in all modesty that we shall do better with our own than with coleridge which has the further disadvantage of being scarcely amenable to positive evidence we can say with historical warrant that sappho struck the lyre and argue therefrom still within close range of correction that her singing responded to the instrument whereas to assert that sappho mind balanced by a spontaneous effort which strove to hold in check the workings of passion is to say something for which positive evidence will be less handily found whether to contradict or to support yet if you choose to prefer coleridge explanation no great harm will be done since coleridge who may be presumed to have understood it promptly goes on to deduce that as the elements of metre owe their existence to a state of increased excitement so the metre itself should be accompanied by the natural language of excitement which is precisely where we found ourselves save that where coleridge uses the word we used the word shall we employ an illustration before proceeding some sentence easily handled some commonplace of the moralist some copybook maxim i care not what breeds happiness that is a proposition with which you can hardly quarrel sententious sedate obviously true provoking delirious advocacy as little as controversial heat in short a very fair touchstone now hear how the lyric treats it in these lines of dekker art thou poor yet hast thou golden slumbers o sweet content art thou rich yet is thy mind perplex o punishment dost thou laugh to see how fools are to add to golden numbers golden numbers o sweet content o sweet o sweet content work apace apace apace apace honest labour wears a lovely face then hey nonny nonny hey nonny nonny canst drink the waters of the crystal spring o sweet content thou in wealth yet in thine own tears o punishment then he that patiently want burden bears no burden bears but is a king a king o sweet content o sweet o sweet content work apace apace apace apace honest labour wears a lovely face then hey nonny nonny hey nonny nonny there in lines obviously written for music you have our sedate sentence breeds happiness converted to mere emotion note to use coleridge word the of it there are but two plain indicative sentences in the two stanzas labour wears a lovely face used as a refrain and he that patiently burden bears no burden bears but is a king a king heightened emotionally by inversion and double repetition mark throughout how broken is the utterance antithetical question answered by exclamations both doubled and made more antithetical in the second stanza with cunning reduplicated inversions to follow and each stanza wound up by an outburst of emotional nonsense nonny nonny hey nonny nonny as a man might skip or whistle to himself for want of thought now still keeping to our same subject of contentment let us the lyrical order of language down to the lowest pitch to which genius has been able to reduce it and still make noble verse you have all read wordsworth famous introduction to the lyrical ballads and you know that wordsworth was a genius working on a theory that the languages of verse and of prose are identical you know too i dare say into what banalities that theory over and over again betrayed him banalities such as his widowed mother for a second mate espoused the teacher of the village school who on her offspring zealously bestowed needful instruction and the rest nevertheless wordsworth was a genius and genius working persistently on a narrow theory will now and again it off as they say so he amid the flat waste of his later compositions did undoubtedly it off in the following sonnet these times strike monied worldlings with dismay rich men brave by nature taint the air with words of apprehension and despair while tens of thousands thinking on the affray men unto whom sufficient for the day and minds not stinted or untill are given sound healthy children of the god of heaven are cheerful as the rising sun in may what do we gather hence but firmer faith that every gift of noble origin is breath upon by hope perpetual breath that virtue and the faculties within are vital and that riches are akin to fear to change to cowardice and death here i grant are no repetitions no inversions the sentences though metrical run straightforwardly verb following subject object verb as in strict prose in short here you have verse reduced to the order and structure of prose as nearly as a man of genius working on a set theory could reduce it while yet maintaining its proper emotional key but first let me say that you will find very few like instances of success even in wordsworth and few indeed to set against innumerable passages wherein either his verse defies his theory and triumphs or succumbs to it and succumbing either drops sheer to bathos or spreads itself over dead flats of commonplace let me tell you next that the instances you will find in other poets are so few and so far between as to be negligible and lastly that even such verse as the above has only to be compared with a passage of prose and its emotional pitch is at once betrayed take this for example from jeremy taylor since all the evil in the world consists in the disagreeing between the object and the appetite as when a man hath what he desires not or desires what he hath not or desires amiss he that compares his spirit to the present accident hath variety of instance for his virtue but none to trouble him because his desires enlarge not beyond his present fortune and a wise man is placed in a variety of chances like the nave or centre of a wheel in the midst of all the circumvolutions and changes of posture without violence or change save that it turns gently in compliance with its changed parts and is indifferent which part is up and which is down for there is some virtue or other to be exercised whatever happens either patience or thanksgiving love or fear moderation or humility charity or contentedness or take this from samuel johnson the fountain of contentment must spring up in the mind and he who has so little knowledge of human nature as to seek happiness by changing anything but his own disposition will waste his life in fruitless efforts and multiply the griefs which he purposes to remove now to be frank i do not call that first passage very good prose like much of jeremy taylor writing it is prose tricked out with the trappings and of verse it starts off for example with a brace of heroics all the evil in the world consists the object and the appetite you may say further that the simile of the wheel though proper enough to prose is poetical too that homer might have used it in a wheel the rim turns violently while the nave though it turns also yet seems to be at rest something of that sort nevertheless you will agree with me that in exchanging wordsworth for taylor and johnson we have relaxed something with the metre something that the metre kept taut and this something we discover to be the emotional pitch but let me give you another illustration supplied i dare say quite unconsciously by one who combined a genuine love of verse in which however he was no adept with a sure instinct for beautiful prose contentment was a favourite theme with isaak walton the compleat angler is packed with praise of it and in the compleat angler occurs this passage but master first let me tell you that very hour which you were absent from me i sat down under a willow tree by the waterside and considered what you had told me of the owner of that pleasant meadow in which you then had left me that he had a plentiful estate and not a heart to think so that he had at this time many depending and that they both damped his mirth and took up so much of his time and thoughts that he had no leisure to take the sweet content that i who pretended no title to them took in his fields for i could there sit quietly and looking on the water see some fishes sport themselves in the silver streams others leaping at flies of several shapes and colours looking on the hills i could behold them spotted with woods and groves looking down the meadows could see here a boy gathering lilies and and there a girl cropping culverlocks and cowslips all to make garlands suitable to this present month of may these and many other so perfumed the air that i thought that very meadow like that field in sicily of which diodorus speaks where the perfumes arising from the place make all dogs that hunt in it to fall off and lose their hottest scent i say as i thus sat joying in my own happy condition and pitying this poor rich man that owned this and many other pleasant groves and meadows about me i did thankfully remember what my saviour said that the meek possess the earth or rather they enjoy what the others possess and enjoy not for anglers and meek men are free from those high those restless thoughts which corrode the sweets of life and they and they only can say as the poet has happily exprest it blest estate of lowliness happy enjoyments of such minds as rich in can like the reeds in roughest winds by yielding make that blow but small at which proud oaks and cedars fall there you have a passage of felicitous prose culminating in a stanza of trite and verse yes walton instinct is sound for he is keying up the pitch and verse even when mediocre in quality has its pitch naturally set above that of prose so if you will turn to your walton and read the page following this passage you will see that still by a sure instinct he proceeds from this scrap of reflective verse to a mere rollicking man life is but vain for is subject to pain and sorrow and short as a bubble is a of business and money and care and care and money and trouble which is even worse rubbish and yet a step upwards in emotion because venator actually sings it to music marry sir this is music indeed approves brother peter cheers the heart in this and the preceding lecture gentlemen i have enforced at some length the opinion that to understand the many essential differences between verse and prose we must constantly bear in mind that verse being metrical keeps the character originally imposed on it by musical accompaniment and must always however far the remove be referred back to its origin and to the emotion which music excites mr george bernard shaw having to commit his novel cashel profession to paper in a hurry chose to cast it in blank verse as being more easily and readily written so a performance which brilliantly illuminates a verse or at any rate unrhymed iambic verse is easier to write than prose if you care to leave out the emotion which makes verse characteristic and worth writing i have little doubt that had he chosen to attempt it mr shaw would have found his story still more ductile in the metre of hiawatha but the experiment proves nothing or no more than that all fine art costing labour it may cost less if burlesqued in a category not its own let me take an example from a work with which you are all familiar the student handbook to the university and colleges of cambridge on we read the medieval and modern languages tripos is divided into ten sections a b c d e f g h and i a student may take either one or two sections at the end of his second year of residence and either one or two more sections at the end of his third or fourth year of residence or he may take two sections at the end of his third year only thus this tripos can be treated either as a divided or as an undivided tripos at the option of the candidate now i do not hold that up to you for a model of prose still lucidity rather than emotion being its aim i doubt not that the composer spent pains on it more pains than it would have cost him to convey his information metrically thus there is a tripos that aspires to blend the medieval and the modern tongues in one red burial sing heavenly muse divided into sections a b c d e f g and h and i a student may take either one or two with some restrictions mention in a footnote at th expiration of his second year or of his third or of his fourth again take one or two or of his third alone take two together thus this tripos is like nothing in the athanasian creed divisible or indivisible at the option of the candidate gadzooks this method has even some advantage over the method of prose in that it is more easily memorised but it has as you will admit the one fatal flaw that it imports emotion into a theme which does not properly admit of emotion and that so it offends against our first rule of writing that it should be appropriate now if you accept the argument so far as we have led it that verse is by nature more emotional than prose certain consequences would seem to follow of which the first is that while the capital difficulty of verse consists in saying ordinary things the capital difficulty of prose consists in saying extraordinary things that while with verse keyed for high moments the trouble is to manage the intervals with prose the trouble is to manage the high moments let us dwell awhile on this difference for it is important you remember my quoting to you in my last lecture these lines of milton up to a hill anon his steps he reared from whose high top to ken the prospect round if cottage were in view or herd but cottage herd or none he saw we agreed that these were good lines with the accent of poetry but we allowed it to be a highly exalted way of telling how climbed a hill for a better view but found none now obviously this exaltation does not arise immediately out of the action described which is as ordinary as it well could be but is it borrows its wings its impetus from a previous high moment from the emotion proper to that moment from the speech proper to that emotion and these sustain us across to the next height as with the glide of an aeroplane your own sense will tell you at once that the passage would be merely bombastic if the poet were starting to set forth how climbed a hill for the view just that and nothing else as your own sense tells you that the swoop is from one height to another for if bathos lay ahead if milton had but to relate how the duke of york with twenty thousand men up a hill and then marched down again he certainly would not use diction such as up to a hill anon his steps he reared even as it is i think we must all detect a certain artificiality in the passage and confess to some relief when satan is introduced to us ten lines lower down to revivify the story for let us note that in the nature of things the more adorned and involved our style and is both ornate and involved the more difficulty we must find with these flat pedestrian intervals milton may it off largely through knowing how to dodge the interval and contrive that it shall at any rate be brief but as bagehot noted when we come to tennyson and find tennyson in enoch arden informing us of a that enoch white horse and enoch in osier in a and his face with a thousand winter gales not only to the market town were known but in the leafy lanes beyond the down far as the and peacock yewtree of the lonely hall whose friday fare was enoch ministering why then we feel that the vehicle is altogether too pompous for its load and those who make speech too pompous for its content commit albeit in varying degrees the error of defoe religious lady who seeing a bottle of beer explode and cork and froth fly up to the ceiling cried out the wonders of omnipotent power the poet who commends fresh fish to us as can cast no stone at his brother who writes of them as finny denizens of the\r\n",
            "\n",
            "[[ 1  2  2 ... 12  1  1]]\n",
            "Done!\n"
          ],
          "name": "stdout"
        }
      ]
    },
    {
      "cell_type": "code",
      "metadata": {
        "colab": {
          "base_uri": "https://localhost:8080/"
        },
        "id": "n52v-RG-pYEE",
        "outputId": "452e696f-4abb-43d7-a5bf-a5207ac272b9"
      },
      "source": [
        "#line = ai.print_sample(df)\n",
        "print(line)\n",
        "vector = vectorizer.fit_transform([line])\n",
        "vector = ai.print_vector(vector, vectorizer)\n",
        "print(vector)\n",
        "print(\"Done!\")"
      ],
      "execution_count": 35,
      "outputs": [
        {
          "output_type": "stream",
          "text": [
            "particular let us respect whatever professor saintsbury writes who has done such splendid work upon english i daresay he would retort upon my impatience grandly enough quoting walt whitman i am the teacher of athletes he that by me spreads a wider breast than my own proves the width of my own he most honours my style who learns under it to destroy the teacher his speculations may lead to much in time though for the present they yield us small instruction in the path we seek it is time we harked back to our own verse is written in metre and strict rhythm prose without metre and with the freest possible rhythm that distinction seems simple enough but it carries consequences very far from simple let me give you an illustration taken almost at hazard from milton from the second book of paradise regained up to a hill anon his steps he reared from whose high top to ken the prospect round if cottage were in view or herd but cottage herd or none he saw these few lines are verse are obviously verse with the accent of poetry while as obviously they are mere narrative and tell us of the simplest possible incident how christ climbed a hill to learn what could be seen from the top yet observe line for line and almost word for word how strangely they differ from prose mark the inversions to a hill anon his steps he reared cottage herd or none he saw mark next the diction steps he reared in prose we should not rear our steps up the hills or even more alpine fastnesses nor arrived at the top should we the prospect round we might but should more probably it even is a tricky word in prose though i deliberately palmed it off on you a few minutes ago mark thirdly the varied repetition cottage were in view or herd but cottage herd or none he saw lastly compare the whole with such an account as you or i or cluvienus would write in plain prose thereupon he climbed a hill on the chance that the view from its summit might disclose some sign of human habitation a herd a a cottage perhaps but he could see nothing of the sort but you will ask should verse and prose employ diction so different should the one invert the order of words in a fashion not permitted to the other and i shall endeavour to answer these questions together with a third which i dare say you have sometimes been minded to put when you have been told and truthfully told by your manuals and histories that when a nation of men starts making literature it invariably starts on the difficult emprise of verse and goes on to prose as by an afterthought why should men start upon the more difficult form and proceed to the easier it is not their usual way in learning to skate for instance they do not cut figures before practising loose and easy propulsion the answer is fairly simple literature once more is a record of memorable speech it preserves in words a record of such thoughts or of such deeds as we deem worth preserving now if you will imagine yourself a very primitive man lacking paper or parchment or a slightly less primitive but very poor man to whom the price of parchment and ink is prohibitive you have two ways of going to work you can carve your words upon trees or stones a laborious process or you can commit them to memory and carry them about in your head which is cheaper and handier for an illustration you find it useful anticipating the to know how many days there are in the current month but further you find it a nuisance and a ruinous waste of time to run off to the tribal tree or monolith whenever the calculation comes up so you invent a formula and you cast that formula into for the simple reason that verse with its tags alliterations beat of syllables jingle of rhymes however your tribe has chosen to invent it has a knack not possessed by prose of sticking in your head you do not say thy tablets memory let me see january has days february days march days april days you invent a verse thirty days hath september april june and november nay it has been whispered to me gentlemen that in this university some such process of memorising in verse has been applied by bold bad men even to the evidences of our cherished paley this you will say is mere verse and not yet within measurable distance of poetry but wait the men who said the more memorable things or sang them the men who recounted deeds and genealogies of heroes plagues and famines assassinations escapes from captivity wanderings and conquests of the clan all the unhappy things and battles long ago the men who sang these things for their living for a supper a bed in the great hall and something in their wallet to carry them on to the next lordship these were gentlemen scôps bards minstrels call them how you will a professional class who had great need of a full repertory in a land swarming with petty chieftains and to adapt their strains to the particular hall of entertainment it would never do for example to flatter the prowess of the billings in the house of the hoppings their hereditary foes or to bore the wokings who lived where the crematorium now is with the complicated genealogy of the tootings for this would have been to miss that appropriateness which i preached to you in my second lecture as a preliminary rule of good writing nay when the billings intermarried with the tootings when the billings took to cooing so to speak a hasty blend of excerpts would be required for the epithalamium so it was all a highly difficult business needing adaptability a quick wit a goodly stock of songs a retentive memory and every artifice to assist it take widsith for example the man he begins widsith spake he unlocked his so he had a hoard of words you see and he must have needed them for he goes on forthon ic maeg singan and secgan spell maenan fore mengo in meoduhealle hu me cynegode cystum dohten ic waes mid hunum and mid mid sweom and mid geatum and mid mid wenlum ic waes and mid waernum and mid wicingum mid gefthum ic waes and mid winedum therefore i can sing and tell a tale recount in the mead hall how men of high race gave rich gifts to me i was with huns and with hreth goths with the swedes and with the geats and with the south danes i was with the wenlas and with the waernas and with the vikings i was with the gefthas and with the winedae and so on for a full dozen lines i say that the memory of such men must have needed every artifice to help it and the chief artifice to their hand was one which also delighted the ears of their listeners they sang or intoned to the harp there you get it gentlemen i have purposely skimming a wide subject discarded much ballast but you may read and scan and read again and always you must come back to this that the first poets sang their words to the harp or to some such instrument and just there lies the secret why poetry differs from prose the moment you introduce music you let in emotion with all its sway upon speech from that moment you change everything down to the order of the words the order of the words and remember this though the harp be superseded the voice never forgets it you may take up a barrack room ballad of kipling and it is there though you affect to despise it for a banjo or concertina ford ford ford of kabul river whang whang goes the drum the fife from the moment men introduced music they made verse a thing essentially separate from prose from its natural key of emotion to its natural ordering of words do not for one moment imagine that when milton writes but cottage herd or none he saw or of man first disobedience and the fruit of that forbidden tree where you must seek down five lines before you come to the verb and then find it in the imperative mood do not suppose for a moment that he is here fantastically shifting words inverting phrases out of their natural order for as st paul might say there is a natural order of prose and there is a natural order of verse the natural order of prose is i was born in the year in the city of york of a good family though not of that county my father being a foreigner of bremen who settled first in or further i avow to your highness that with these eyes i have beheld the person of william wooton who has written a good sizeable volume against a friend of your governor from whom alas he must therefore look for little favour in a most gentlemanly style adorned with the utmost politeness and the natural order of poetry is thus with the year seasons return but not to me returns day or the sweet approach of or morn or sight of vernal bloom or summer rose or flocks or herds or human face divine or but cottage herd or none he saw and this basal difference you must have clear in your minds before in dealing with prose or verse you can practise either with profit or read either with intelligent delight lecture iv on the capital difficulty of verse thursday april in our last lecture gentlemen we discussed the difference between verse or metrical writing and prose we traced that difference as you will remember to music to the harp the lyre the dance the chorus all those first necessary accompaniments which verse never quite forgets and we concluded that as music ever introduces emotion which is indeed her proper and only means of persuading so the natural language of verse will be keyed higher than the natural language of prose will be keyed higher throughout and even for its most ordinary purposes as for example to tell us that sailed to troy with so many ships i grant you that our steps to this conclusion were lightly and rapidly taken yet the are historically firm verse does precede prose in literature verse does start with musical accompaniment musical accompaniment does introduce emotion and emotion does introduce an order of its own into speech i grant you that we have travelled far from the days when a herodotus labelled the books of his history by the names of the nine muses i grant you that if you go to the vatican and there study the statues of the muses noble but of no early date you may note that calliope muse of the epic unlike her sisters euterpe erato thalia holds for symbol no instrument of music but a stylus and a tablet yet the earlier calliope the calliope of homer was a muse of song greek menin aeide thea i a thousand tongues a thousand hands for what purpose does the poet wish for a thousand tongues but to sing for what purpose a thousand hands but to pluck the wires not to dip a thousand pens in a thousand inkpots i doubt in fine if your most learned studies will discover much amiss with the frontier we drew between verse and prose cursorily though we ran its line nor am i daunted on comparing it with coleridge more philosophical one which you will find in the biographia literaria xviii and first for the origin of metre this i would trace to the balance in the mind effected by that spontaneous effort which strives to hold in check the workings of passion it might be easily explained likewise in what manner this salutary antagonism is assisted by the very state which it counteracts and how this balance of antagonism becomes organised into metre in the usual acceptation of that term by a supervening act of the will and judgment consciously and for the foreseen purpose of pleasure i will not swear to understand precisely what coleridge means here though i believe that i do but at any rate and on the principle that of two hypotheses each in itself adequate we should choose the simpler i suggest in all modesty that we shall do better with our own than with coleridge which has the further disadvantage of being scarcely amenable to positive evidence we can say with historical warrant that sappho struck the lyre and argue therefrom still within close range of correction that her singing responded to the instrument whereas to assert that sappho mind balanced by a spontaneous effort which strove to hold in check the workings of passion is to say something for which positive evidence will be less handily found whether to contradict or to support yet if you choose to prefer coleridge explanation no great harm will be done since coleridge who may be presumed to have understood it promptly goes on to deduce that as the elements of metre owe their existence to a state of increased excitement so the metre itself should be accompanied by the natural language of excitement which is precisely where we found ourselves save that where coleridge uses the word we used the word shall we employ an illustration before proceeding some sentence easily handled some commonplace of the moralist some copybook maxim i care not what breeds happiness that is a proposition with which you can hardly quarrel sententious sedate obviously true provoking delirious advocacy as little as controversial heat in short a very fair touchstone now hear how the lyric treats it in these lines of dekker art thou poor yet hast thou golden slumbers o sweet content art thou rich yet is thy mind perplex o punishment dost thou laugh to see how fools are to add to golden numbers golden numbers o sweet content o sweet o sweet content work apace apace apace apace honest labour wears a lovely face then hey nonny nonny hey nonny nonny canst drink the waters of the crystal spring o sweet content thou in wealth yet in thine own tears o punishment then he that patiently want burden bears no burden bears but is a king a king o sweet content o sweet o sweet content work apace apace apace apace honest labour wears a lovely face then hey nonny nonny hey nonny nonny there in lines obviously written for music you have our sedate sentence breeds happiness converted to mere emotion note to use coleridge word the of it there are but two plain indicative sentences in the two stanzas labour wears a lovely face used as a refrain and he that patiently burden bears no burden bears but is a king a king heightened emotionally by inversion and double repetition mark throughout how broken is the utterance antithetical question answered by exclamations both doubled and made more antithetical in the second stanza with cunning reduplicated inversions to follow and each stanza wound up by an outburst of emotional nonsense nonny nonny hey nonny nonny as a man might skip or whistle to himself for want of thought now still keeping to our same subject of contentment let us the lyrical order of language down to the lowest pitch to which genius has been able to reduce it and still make noble verse you have all read wordsworth famous introduction to the lyrical ballads and you know that wordsworth was a genius working on a theory that the languages of verse and of prose are identical you know too i dare say into what banalities that theory over and over again betrayed him banalities such as his widowed mother for a second mate espoused the teacher of the village school who on her offspring zealously bestowed needful instruction and the rest nevertheless wordsworth was a genius and genius working persistently on a narrow theory will now and again it off as they say so he amid the flat waste of his later compositions did undoubtedly it off in the following sonnet these times strike monied worldlings with dismay rich men brave by nature taint the air with words of apprehension and despair while tens of thousands thinking on the affray men unto whom sufficient for the day and minds not stinted or untill are given sound healthy children of the god of heaven are cheerful as the rising sun in may what do we gather hence but firmer faith that every gift of noble origin is breath upon by hope perpetual breath that virtue and the faculties within are vital and that riches are akin to fear to change to cowardice and death here i grant are no repetitions no inversions the sentences though metrical run straightforwardly verb following subject object verb as in strict prose in short here you have verse reduced to the order and structure of prose as nearly as a man of genius working on a set theory could reduce it while yet maintaining its proper emotional key but first let me say that you will find very few like instances of success even in wordsworth and few indeed to set against innumerable passages wherein either his verse defies his theory and triumphs or succumbs to it and succumbing either drops sheer to bathos or spreads itself over dead flats of commonplace let me tell you next that the instances you will find in other poets are so few and so far between as to be negligible and lastly that even such verse as the above has only to be compared with a passage of prose and its emotional pitch is at once betrayed take this for example from jeremy taylor since all the evil in the world consists in the disagreeing between the object and the appetite as when a man hath what he desires not or desires what he hath not or desires amiss he that compares his spirit to the present accident hath variety of instance for his virtue but none to trouble him because his desires enlarge not beyond his present fortune and a wise man is placed in a variety of chances like the nave or centre of a wheel in the midst of all the circumvolutions and changes of posture without violence or change save that it turns gently in compliance with its changed parts and is indifferent which part is up and which is down for there is some virtue or other to be exercised whatever happens either patience or thanksgiving love or fear moderation or humility charity or contentedness or take this from samuel johnson the fountain of contentment must spring up in the mind and he who has so little knowledge of human nature as to seek happiness by changing anything but his own disposition will waste his life in fruitless efforts and multiply the griefs which he purposes to remove now to be frank i do not call that first passage very good prose like much of jeremy taylor writing it is prose tricked out with the trappings and of verse it starts off for example with a brace of heroics all the evil in the world consists the object and the appetite you may say further that the simile of the wheel though proper enough to prose is poetical too that homer might have used it in a wheel the rim turns violently while the nave though it turns also yet seems to be at rest something of that sort nevertheless you will agree with me that in exchanging wordsworth for taylor and johnson we have relaxed something with the metre something that the metre kept taut and this something we discover to be the emotional pitch but let me give you another illustration supplied i dare say quite unconsciously by one who combined a genuine love of verse in which however he was no adept with a sure instinct for beautiful prose contentment was a favourite theme with isaak walton the compleat angler is packed with praise of it and in the compleat angler occurs this passage but master first let me tell you that very hour which you were absent from me i sat down under a willow tree by the waterside and considered what you had told me of the owner of that pleasant meadow in which you then had left me that he had a plentiful estate and not a heart to think so that he had at this time many depending and that they both damped his mirth and took up so much of his time and thoughts that he had no leisure to take the sweet content that i who pretended no title to them took in his fields for i could there sit quietly and looking on the water see some fishes sport themselves in the silver streams others leaping at flies of several shapes and colours looking on the hills i could behold them spotted with woods and groves looking down the meadows could see here a boy gathering lilies and and there a girl cropping culverlocks and cowslips all to make garlands suitable to this present month of may these and many other so perfumed the air that i thought that very meadow like that field in sicily of which diodorus speaks where the perfumes arising from the place make all dogs that hunt in it to fall off and lose their hottest scent i say as i thus sat joying in my own happy condition and pitying this poor rich man that owned this and many other pleasant groves and meadows about me i did thankfully remember what my saviour said that the meek possess the earth or rather they enjoy what the others possess and enjoy not for anglers and meek men are free from those high those restless thoughts which corrode the sweets of life and they and they only can say as the poet has happily exprest it blest estate of lowliness happy enjoyments of such minds as rich in can like the reeds in roughest winds by yielding make that blow but small at which proud oaks and cedars fall there you have a passage of felicitous prose culminating in a stanza of trite and verse yes walton instinct is sound for he is keying up the pitch and verse even when mediocre in quality has its pitch naturally set above that of prose so if you will turn to your walton and read the page following this passage you will see that still by a sure instinct he proceeds from this scrap of reflective verse to a mere rollicking man life is but vain for is subject to pain and sorrow and short as a bubble is a of business and money and care and care and money and trouble which is even worse rubbish and yet a step upwards in emotion because venator actually sings it to music marry sir this is music indeed approves brother peter cheers the heart in this and the preceding lecture gentlemen i have enforced at some length the opinion that to understand the many essential differences between verse and prose we must constantly bear in mind that verse being metrical keeps the character originally imposed on it by musical accompaniment and must always however far the remove be referred back to its origin and to the emotion which music excites mr george bernard shaw having to commit his novel cashel profession to paper in a hurry chose to cast it in blank verse as being more easily and readily written so a performance which brilliantly illuminates a verse or at any rate unrhymed iambic verse is easier to write than prose if you care to leave out the emotion which makes verse characteristic and worth writing i have little doubt that had he chosen to attempt it mr shaw would have found his story still more ductile in the metre of hiawatha but the experiment proves nothing or no more than that all fine art costing labour it may cost less if burlesqued in a category not its own let me take an example from a work with which you are all familiar the student handbook to the university and colleges of cambridge on we read the medieval and modern languages tripos is divided into ten sections a b c d e f g h and i a student may take either one or two sections at the end of his second year of residence and either one or two more sections at the end of his third or fourth year of residence or he may take two sections at the end of his third year only thus this tripos can be treated either as a divided or as an undivided tripos at the option of the candidate now i do not hold that up to you for a model of prose still lucidity rather than emotion being its aim i doubt not that the composer spent pains on it more pains than it would have cost him to convey his information metrically thus there is a tripos that aspires to blend the medieval and the modern tongues in one red burial sing heavenly muse divided into sections a b c d e f g and h and i a student may take either one or two with some restrictions mention in a footnote at th expiration of his second year or of his third or of his fourth again take one or two or of his third alone take two together thus this tripos is like nothing in the athanasian creed divisible or indivisible at the option of the candidate gadzooks this method has even some advantage over the method of prose in that it is more easily memorised but it has as you will admit the one fatal flaw that it imports emotion into a theme which does not properly admit of emotion and that so it offends against our first rule of writing that it should be appropriate now if you accept the argument so far as we have led it that verse is by nature more emotional than prose certain consequences would seem to follow of which the first is that while the capital difficulty of verse consists in saying ordinary things the capital difficulty of prose consists in saying extraordinary things that while with verse keyed for high moments the trouble is to manage the intervals with prose the trouble is to manage the high moments let us dwell awhile on this difference for it is important you remember my quoting to you in my last lecture these lines of milton up to a hill anon his steps he reared from whose high top to ken the prospect round if cottage were in view or herd but cottage herd or none he saw we agreed that these were good lines with the accent of poetry but we allowed it to be a highly exalted way of telling how climbed a hill for a better view but found none now obviously this exaltation does not arise immediately out of the action described which is as ordinary as it well could be but is it borrows its wings its impetus from a previous high moment from the emotion proper to that moment from the speech proper to that emotion and these sustain us across to the next height as with the glide of an aeroplane your own sense will tell you at once that the passage would be merely bombastic if the poet were starting to set forth how climbed a hill for the view just that and nothing else as your own sense tells you that the swoop is from one height to another for if bathos lay ahead if milton had but to relate how the duke of york with twenty thousand men up a hill and then marched down again he certainly would not use diction such as up to a hill anon his steps he reared even as it is i think we must all detect a certain artificiality in the passage and confess to some relief when satan is introduced to us ten lines lower down to revivify the story for let us note that in the nature of things the more adorned and involved our style and is both ornate and involved the more difficulty we must find with these flat pedestrian intervals milton may it off largely through knowing how to dodge the interval and contrive that it shall at any rate be brief but as bagehot noted when we come to tennyson and find tennyson in enoch arden informing us of a that enoch white horse and enoch in osier in a and his face with a thousand winter gales not only to the market town were known but in the leafy lanes beyond the down far as the and peacock yewtree of the lonely hall whose friday fare was enoch ministering why then we feel that the vehicle is altogether too pompous for its load and those who make speech too pompous for its content commit albeit in varying degrees the error of defoe religious lady who seeing a bottle of beer explode and cork and froth fly up to the ceiling cried out the wonders of omnipotent power the poet who commends fresh fish to us as can cast no stone at his brother who writes of them as finny denizens of the\r\n",
            "\n",
            "            0\n",
            "able        1\n",
            "about       2\n",
            "above       2\n",
            "absent      1\n",
            "accent      2\n",
            "...        ..\n",
            "york        2\n",
            "you        68\n",
            "your       12\n",
            "yourself    1\n",
            "zealously   1\n",
            "\n",
            "[1480 rows x 1 columns]\n",
            "Done!\n"
          ],
          "name": "stdout"
        }
      ]
    },
    {
      "cell_type": "code",
      "metadata": {
        "id": "LD547YyFpgCz"
      },
      "source": [
        ""
      ],
      "execution_count": null,
      "outputs": []
    }
  ]
}