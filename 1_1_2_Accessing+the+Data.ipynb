{
  "nbformat": 4,
  "nbformat_minor": 0,
  "metadata": {
    "colab": {
      "name": "1.1.2 Accessing+the+Data.ipynb",
      "provenance": [],
      "collapsed_sections": [],
      "toc_visible": true,
      "authorship_tag": "ABX9TyP4G2hqTa1rUD98sV7h64+d",
      "include_colab_link": true
    },
    "kernelspec": {
      "name": "python3",
      "display_name": "Python 3"
    }
  },
  "cells": [
    {
      "cell_type": "markdown",
      "metadata": {
        "id": "view-in-github",
        "colab_type": "text"
      },
      "source": [
        "<a href=\"https://colab.research.google.com/github/AlbinB/Text-Analytics-NLP/blob/main/1_1_2_Accessing%2Bthe%2BData.ipynb\" target=\"_parent\"><img src=\"https://colab.research.google.com/assets/colab-badge.svg\" alt=\"Open In Colab\"/></a>"
      ]
    },
    {
      "cell_type": "markdown",
      "metadata": {
        "id": "JffVwHbUovu0"
      },
      "source": [
        "# How to Access the Labs and Data"
      ]
    },
    {
      "cell_type": "markdown",
      "metadata": {
        "id": "IjJn2xBU0n-z"
      },
      "source": [
        "# Colab Setup"
      ]
    },
    {
      "cell_type": "code",
      "metadata": {
        "colab": {
          "base_uri": "https://localhost:8080/"
        },
        "id": "B-WJD7hUQyOU",
        "outputId": "30599646-fcc5-4b7a-b25f-2fc32f044554"
      },
      "source": [
        "#run this cell to mound google drive\n",
        "from google.colab import drive\n",
        "drive.mount('/content/drive/')\n",
        "\n"
      ],
      "execution_count": null,
      "outputs": [
        {
          "output_type": "stream",
          "text": [
            "Mounted at /content/drive/\n"
          ],
          "name": "stdout"
        }
      ]
    },
    {
      "cell_type": "code",
      "metadata": {
        "colab": {
          "base_uri": "https://localhost:8080/"
        },
        "id": "OJ86_dWP4-db",
        "outputId": "a48331a7-51d1-4176-83b2-142a55879426"
      },
      "source": [
        "###Add text_analytics.py to path \n",
        "!cp \"/content/drive/My Drive/Colab Notebooks/CourseWork/Text Analytics and Natural Language Processing/text_analytics.py\" .\n",
        "print(\"Done!\")"
      ],
      "execution_count": null,
      "outputs": [
        {
          "output_type": "stream",
          "text": [
            "Done!\n"
          ],
          "name": "stdout"
        }
      ]
    },
    {
      "cell_type": "markdown",
      "metadata": {
        "id": "VuxQ3YQk40Z3"
      },
      "source": [
        "# Lecture Lab"
      ]
    },
    {
      "cell_type": "markdown",
      "metadata": {
        "id": "43iVvc9Lovu7"
      },
      "source": [
        "Welcome to our first lab!\n",
        "\n",
        "These labs are going to show you how to use text analytics to do the kinds of analysis that we're talking about in the lectures. Even beginners can go through these labs to see computational linguistics in action. If you're not a beginner and you want more detail, check out the *text_analytics* package that we're using: [https://github.com/jonathandunn/text_analytics](https://github.com/jonathandunn/text_analytics). You can use the package as a source for code snippets. But you can also install the package via pip in order to use it directly:\n",
        "\n",
        "        pip install git+https://github.com/jonathandunn/text_analytics.git\n",
        "\n",
        "We're going to start by loading our dependencies. That just means that we start up all the packages that we'll need in order to do the lab. This is how we'll start each and every lab. \n",
        "\n",
        "So, start by **running** the line below. Click on the box and then press the \"Run\" button. (It has an icon that looks like your typical \"play\" icon). You'll notice, if you look at the top-right corner of the screen, that there is an empty circle next to \"Python 3\". When the code is running, that circle will be filled in. So, always wait until the code finishes before moving on. We'll also have the code print something out every time it finishes."
      ]
    },
    {
      "cell_type": "code",
      "metadata": {
        "colab": {
          "base_uri": "https://localhost:8080/"
        },
        "id": "pf_YJeEavux2",
        "outputId": "bfcda621-76c3-45a2-f9da-9e3a18982851"
      },
      "source": [
        "from text_analytics import text_analytics\n",
        "import os\n",
        "import pandas as pd\n",
        "\n",
        "print(\"Done!\")"
      ],
      "execution_count": null,
      "outputs": [
        {
          "output_type": "stream",
          "text": [
            "Done!\n"
          ],
          "name": "stdout"
        }
      ]
    },
    {
      "cell_type": "code",
      "metadata": {
        "id": "Gjj8jBly2703",
        "colab": {
          "base_uri": "https://localhost:8080/"
        },
        "outputId": "4105a65e-a0f0-4ccf-a219-a445f725a613"
      },
      "source": [
        "# Pandas formating \n",
        "# inclears number of columns to display in line and column with for easier reading \n",
        "pd.set_option(\"display.max_columns\", 10)\n",
        "pd.set_option('display.width', 500)\n",
        "print(\"Done!\")"
      ],
      "execution_count": null,
      "outputs": [
        {
          "output_type": "stream",
          "text": [
            "Done!\n"
          ],
          "name": "stdout"
        }
      ]
    },
    {
      "cell_type": "markdown",
      "metadata": {
        "id": "0TvuzoCvovu9"
      },
      "source": [
        "Excellent! Now we have our environment set-up. So, let's load our package now that we've imported it. Here we're telling python that the name *ai* refers to the *text_analytics* package."
      ]
    },
    {
      "cell_type": "code",
      "metadata": {
        "colab": {
          "base_uri": "https://localhost:8080/"
        },
        "id": "a84oKpUiovu9",
        "outputId": "bd517871-0294-406a-bf0f-88b7b0d50cf6"
      },
      "source": [
        "# if text_analytics was loaded with pip \n",
        "# ai = text_analytics.text_analytics()\n",
        "\n",
        "# if text_analytics was copied to path \n",
        "ai = text_analytics()\n",
        "print(\"Done!\")"
      ],
      "execution_count": null,
      "outputs": [
        {
          "output_type": "stream",
          "text": [
            "Done!\n"
          ],
          "name": "stdout"
        }
      ]
    },
    {
      "cell_type": "markdown",
      "metadata": {
        "id": "r6cKX9cBovu9"
      },
      "source": [
        "In these labs we'll be using this *text_analytics* package to do our analysis. This makes it easier for those who don't have as much experience in Python. But, if you are comfortable with Python, the *text_analytics* package also provides examples for how to do everything that we cover in this course."
      ]
    },
    {
      "cell_type": "markdown",
      "metadata": {
        "id": "kQMiaCqJovu-"
      },
      "source": [
        "Now that we've loaded everything we need, let's open the data. Run the line below to set the location of our data. The filename is \"Wordclouds.Business_Insider.gz\" and this first line gives us the path to where we've stored the data. That path doesn't mean anything to you, but it tells the code notebook where to look. Then, we use the *pandas* package to open the data."
      ]
    },
    {
      "cell_type": "code",
      "metadata": {
        "colab": {
          "base_uri": "https://localhost:8080/"
        },
        "id": "Fod5vIMKovu-",
        "outputId": "82745af7-1cac-4651-8856-9a15bfe0191b"
      },
      "source": [
        "file =  os.path.join(ai.data_dir, \"Wordclouds.Business_Insider.gz\")\n",
        "df = pd.read_csv(file, index_col = 0)\n",
        "\n",
        "print(df)\n",
        "print(\"Done!\")"
      ],
      "execution_count": null,
      "outputs": [
        {
          "output_type": "stream",
          "text": [
            "         index  Year       Publication                                              Title                                               Text\n",
            "0            1  2016  Business Insider  Colts GM Ryan Grigson says Andrew Luck's contr...   The Indianapolis Colts made Andrew Luck the h...\n",
            "1           61  2017  Business Insider  'The Dark Tower' movie review: It has no heart...  There's a creed The Gunslinger lives by in \"Th...\n",
            "2           64  2018  Business Insider  Fortnite meteors are falling: Here's what it m...  Meteors have been seen falling in Fortnite: Ba...\n",
            "3          106  2018  Business Insider  Ex-Texas cop found guilty of murdering black t...  Jurors are now deciding the fate of a former T...\n",
            "4          159  2018  Business Insider  Former Canadian diplomat detained in China, so...  Former Canadian diplomat Michael Kovrig has be...\n",
            "...        ...   ...               ...                                                ...                                                ...\n",
            "57948  2681343  2020  Business Insider  Trump admits he downplayed coronavirus: 'I kne...  President Donald Trump on Tuesday essentially ...\n",
            "57949  2681344  2020  Business Insider  Robert Reich on unemployment during this publi...  Former Labor Secretary Robert Reich says the b...\n",
            "57950  2681345  2020  Business Insider  Coronavirus: Chicago mayor worried Trump's res...  Chicago Mayor Lori Lightfoot raised questions ...\n",
            "57951  2681346  2020  Business Insider  Esper: Not yet time to evacuate aircraft carri...  Defense Secretary Mark Esper said the US Navy ...\n",
            "57952  2681349  2020  Business Insider  Facebook diversity consultant sues company for...  This story is available exclusively on Busines...\n",
            "\n",
            "[57953 rows x 5 columns]\n",
            "Done!\n"
          ],
          "name": "stdout"
        }
      ]
    },
    {
      "cell_type": "markdown",
      "metadata": {
        "id": "-cgNmJEkovu-"
      },
      "source": [
        "This will take a minute to run. Because it's a pretty large file. We're looking at articles from *Business Insider*. The different columns give us information about each article, like what year it was published. And the \"Text\" column gives us the actual data from each sample. Let's take a look at a random selection."
      ]
    },
    {
      "cell_type": "code",
      "metadata": {
        "id": "J6qHPELKovu-",
        "colab": {
          "base_uri": "https://localhost:8080/"
        },
        "outputId": "4166cd82-8707-48b2-8ee6-5efa22ff1cae"
      },
      "source": [
        "ai.print_sample(df)\n",
        "print(\"Done!\")"
      ],
      "execution_count": null,
      "outputs": [
        {
          "output_type": "stream",
          "text": [
            "['Nine people were killed in a mass shooting in Dayton, Ohio.\\xa0A gunman opened fire at Ned Peppers Bar on East Fifth Street in the city\\'s entertainment district.They have been identified as , a 24-year-old from Bellbrook, Ohio, according to CBS.There are reports of Betts wearing all black, and carrying a large .223-caliber rifle with extra magazines.There are also reports he was covering his face, possibly with a mask.Visit INSIDER\\'s homepage for more stories.Less than 24 hours after a gunman opened fire in El Paso, Texas, a mass shooter killed nine people and injured 26 others in Dayton, Ohio.The killer died at the scene. They have been identified as Connor Betts, a 24-year-old from Bellbrook, Ohio, according to CBS.Local media site WHIO reported the shooting occurred at Ned Peppers Bar on East Fifth Street in Dayton\\'s Oregon district at about 1 a.m. local time.Dayton Mayor Nan Whaley said the gunman was wearing body armor and had several extra magazines for his .223-caliber rifle, according to AP. Witness Antony Reynolds told AP he was in the area with friends when he saw a glimpse of the shooter before he heard \"rapid\" gunfire, and he was wearing all black.There are also reports he was covering his face, possibly with a mask.No motive has been identified at this time.Read more: 9 killed in mass shooting in Dayton, Ohio entertainment districtWhaley also said Dayton police officers \"neutralized\" Betts in less than a minute.\"While this is a terribly sad day for our city, I am amazed by the quick response of Dayton police that saved literally hundreds of lives,\" she said.At a press conference she said that as of 10 a.m. local time, 15 of the 27 injured people had been released from the hospital.Dayton Assistant Police Chief Lt. Col. Matt Carpe told the press there was \"a very short timeline of violence.\"\"We\\'re very fortunate for that,\" he said. \"We had officers in the immediate vicinity when this shooting began and were able to respond and put an end to it quickly.\"In a statement, Senator Sherrod Brown of Ohio said, \"thoughts and prayers are not enough.\"This is the statement in full:\"As Ohio wakes up this morning to the news of this horrific attack, Connie and I are filled with sadness for the victims and their families and gratitude for the police officers who responded to the scene and the medical professionals caring for the injured. We are also angry —angry that shooting after shooting politicians in Washington and Columbus refuse to pass sensible gun-safety laws to protect our communities. We are still learning about the attack in Dayton and we don\\'t know exactly what, if anything, could have prevented this specific tragedy. But we know thoughts and prayers are not enough, we have a responsibility to act.\"My office stands ready to assist the Dayton community with whatever is needed to investigate and recover from this attack.\"—Sherrod Brown (@SenSherrodBrown) August 4, 2019President Trump tweeted that information was \"rapidly being accumulated in Dayton.\" In a second tweet he said: \"God bless the people of El Paso Texas. God bless the people of Dayton, Ohio.\"—Donald J. Trump (@realDonaldTrump) August 4, 2019—Donald J. Trump (@realDonaldTrump) August 4, 2019\\r\\n\\r\\n\\r\\n\\r\\n\\r\\n\\r\\n\\r\\n \\r\\n Read the original article on INSIDER. Copyright 2019.\\r\\n \\r\\n \\r\\n\\r\\n Follow INSIDER on Facebook.\\r\\n \\r\\n\\r\\n \\r\\n Follow INSIDER on Twitter.']\n",
            "Done!\n"
          ],
          "name": "stdout"
        }
      ]
    },
    {
      "cell_type": "markdown",
      "metadata": {
        "id": "Qe9jewACovu-"
      },
      "source": [
        "You'll probably notice how messy this looks! That's because we haven't done any cleaning or pre-processing."
      ]
    },
    {
      "cell_type": "markdown",
      "metadata": {
        "id": "dECMwQtOovu_"
      },
      "source": [
        "And that's it for our first lab! Today we loaded our dependencies into the environment, created an instance of our *text_analytics* package, and looked at one dataset. Our labs in this course are going to be short and simple like this. You can always play around with the data by changing the code that is written in the cells. In fact, that's a great way to learn how it all works. And, remember, you can always get more details by looking at the *text_analytics* package directly.\n",
        "\n",
        "Now it's your turn. Use the code box below to load a different data set and print some samples from it: \n",
        "\n",
        "    \"Wordclouds.TechCrunch.gz\""
      ]
    },
    {
      "cell_type": "code",
      "metadata": {
        "id": "hGpPDkRPovu_",
        "colab": {
          "base_uri": "https://localhost:8080/"
        },
        "outputId": "f39edd29-f84b-4599-adb6-b6ae12e3d391"
      },
      "source": [
        "file =  os.path.join(ai.data_dir, \"Wordclouds.TechCrunch.gz\")\n",
        "df = pd.read_csv(file, index_col = 0)\n",
        "\n",
        "print(df)\n",
        "print(\"Done!\")"
      ],
      "execution_count": null,
      "outputs": [
        {
          "output_type": "stream",
          "text": [
            "         index  Year Publication                                              Title                                               Text\n",
            "0       254365  2018  TechCrunch  Swim.ai raises $10M to bring real-time analyti...  Once upon a time, it looked like cloud-based s...\n",
            "1       265859  2017  TechCrunch  IMAX and Warner Bros. to create VR experiences...  The upcoming Justice League movie looks very b...\n",
            "2       265937  2017  TechCrunch  Virtual nurse app Sense.ly raises $8 million f...  San Francisco startup Sense.ly has raised $8 m...\n",
            "3       269423  2016  TechCrunch  Facebook’s Trending Topics algorithm already s...  Well, that was fast. Three days after Facebook...\n",
            "4       269424  2017  TechCrunch  Amazon Lex, the technology behind Alexa, opens...  Amazon Lex, the technology powering Amazon’s v...\n",
            "...        ...   ...         ...                                                ...                                                ...\n",
            "52090  2680961  2020  TechCrunch  Startups Weekly: A new era for consumer tech –...  TechCrunch is out hunting for bright spots in ...\n",
            "52091  2680963  2020  TechCrunch  How Huawei is dividing Western nations – TechC...  The relationship between the United Kingdom an...\n",
            "52092  2680964  2020  TechCrunch  Elizabeth Warren for President open-sources it...  Democratic senator Elizabeth Warren may have e...\n",
            "52093  2680965  2020  TechCrunch  Test and trace with Apple and Google – TechCrunch  After the shutdown, the testing and tracing. “...\n",
            "52094  2680966  2020  TechCrunch  Compete in Startup Battlefield and Launch at D...  Early-stage founders: Don’t miss your chance t...\n",
            "\n",
            "[52095 rows x 5 columns]\n",
            "Done!\n"
          ],
          "name": "stdout"
        }
      ]
    },
    {
      "cell_type": "code",
      "metadata": {
        "colab": {
          "base_uri": "https://localhost:8080/"
        },
        "id": "wvaLytMt1Yfd",
        "outputId": "9a5e8107-0bf6-4732-99e7-df7332bc55e8"
      },
      "source": [
        "ai.print_sample(df)\n",
        "print(\"Done!\")"
      ],
      "execution_count": null,
      "outputs": [
        {
          "output_type": "stream",
          "text": [
            "['After raising $55 million in October at a $500 million valuation, business software marketplace G2 Crowd\\xa0is making its first-ever acquisition to bring more features to its platform. It is acquiring Siftery, a startup that has built its own database of business software not on user reviews, but by providing a service to businesses where it identifies what is actually getting used and when across their networks. Terms of the deal are not being disclosed, G2 Crowd’s CEO and founder Godard Abel said in an interview. Siftery had been around for a couple of years and had raised a seed round of $4.1 million from a group of notable investors, including Founders Fund, Felicis and Venrock. All 20 employees, including\\xa0co-founders CEO Vamshi Mokshagundam and CTO Ayan Barua, are joining G2 Crowd. G2 Crowd has been building a name for itself as a place where IT buyers can discover and buy software and services for solving specific issues; and if they already are already using or considering a product, a place where they can read other’s reviews and compare it against competitors. There are some 550,000 reviews on the site today across nearly 60,000 products in 1,200 categories (those reviews are up by 50,000 in the last two months). Around 2 million business professionals visit and use the site each month, which they may go to because they are repeat users, or because G2 Crowd happens to have a very strong SEO game, with its links turning up at the top of the list when you do a search for a specific product or product category. That economy of scale makes G2 Crowd a pretty logical home for Siftery, which had also provided a database of software for businesses, but at a much smaller scale and before it had been truly commercialised. Abel said that the startup had only around 1,500 customers, with most of them on a free version of the product. “They were just getting to the point where there was a fork in the road,” he added. “What they hadn’t done yet is monetise and build a business, and we are product people at G2 Crowd.” This also seems to be the stated logic for Siftery, too. “We’re excited to join the G2 Crowd team so we can more quickly realize our joint vision,” said Vamshi Mokshagundam, co-founder and CEO of Siftery, in a statement. “By becoming part of the G2 family, Siftery’s technology can reach millions more people, continue to develop rapidly, and have a bigger impact around the world in helping to eliminate wasted and inefficient software spend.” Siftery’s additional functionality is interesting in terms of how G2 Crowd will develop going forward. The smaller startup engaged with customers and their networks and provided insight into how much each product or service is actually getting used (not just enthused). That makes a handy way\\xa0to determine whether money was being wasted on licenses for certain apps; or conversely whether companies are suffering from “shadow IT”: overpaying by not consolidating their purchasing and bargaining power. All that data subsequently also helped to provide insight to people searching its database to discover software. The problem of overspending on software and apps happens to be a big one. G2 Crowd cites data from Netskope which estimates that\\xa0the average enterprise now runs 1,246 cloud services, a figure that is growing over 10% each year. At the small business end, Siftery estimates that the average organization had 55 SaaS tools, more than doubling over the last three years. And the challenge is still growing: across the range of company sizes, 35 percent more software gets trialled each year, with software budgets growing by 50 percent year-on-year for the past four. Some $1.4 trillion was spent on software and services last year, with waste in the UK and US collectively estimated at $34 billion, G2 Crowd said. Abel said that for now the idea will be to keep Siftery’s product separate while it gets gradually integrated into G2 Crowd. There, it will potentially give the company another string in its bow in terms of the services it offers to businesses coming to its platform — and opting for paid usage tiers. Interestingly, while G2 Crowd will likely continue to be popular as a marketplace to search for apps and services, this deal underscores how the company hopes to develop going forward. It has the opportunity to build a platform where organizations can manage their software, and potentially provide further tools to optimise how it is used, plan more deployments connected to it, and so on. Abel has a long history building and selling startups focused around software productivity (most recently to Salesforce, but also to Oracle and before that CA), and that appears to be the direction he’s taking G2 Crowd, too. (Indeed, it seems to be part of a mini-wave of tech startups rethinking how businesses interact with software. Just earlier today, Nexthink out of Switzerland raised $85 million for its solution that helps enterprises monitor, triage and assist employees who encounter annoying software issues.) Abel said that the engineering talent at Siftery was also a big attraction, and that could help shape other acquisitions going forward. “I think we will look opportunistically,” he said. “It depends on finding a strong product and team.”']\n",
            "Done!\n"
          ],
          "name": "stdout"
        }
      ]
    },
    {
      "cell_type": "code",
      "metadata": {
        "colab": {
          "base_uri": "https://localhost:8080/"
        },
        "id": "5_hkyN7N1gsF",
        "outputId": "61e6a76e-988e-43f7-8119-c7395d37735d"
      },
      "source": [
        "#print data frame row by index\n",
        "print(df.loc[[0]])"
      ],
      "execution_count": null,
      "outputs": [
        {
          "output_type": "stream",
          "text": [
            "    index  Year Publication                                              Title                                               Text\n",
            "0  254365  2018  TechCrunch  Swim.ai raises $10M to bring real-time analyti...  Once upon a time, it looked like cloud-based s...\n"
          ],
          "name": "stdout"
        }
      ]
    },
    {
      "cell_type": "code",
      "metadata": {
        "colab": {
          "base_uri": "https://localhost:8080/"
        },
        "id": "oEkyHbpZ2RMl",
        "outputId": "d755724b-2567-4a35-c483-5e8ee18e24a4"
      },
      "source": [
        "#for row index 0, print a specific column \"Text\"\n",
        "print(df.loc[0,'Text'])"
      ],
      "execution_count": null,
      "outputs": [
        {
          "output_type": "stream",
          "text": [
            "Once upon a time, it looked like cloud-based serviced would become the central hub for analyzing all IoT data. But it didn’t quite turn out that way because most IoT solutions simply generate too much data to do this effectively and the round-trip to the data center doesn’t work for applications that have to react in real time. Hence the advent of edge computing, which is spawning its own ecosystem of startups. Among those is Swim.ai, which today announced that it has raised a $10 million Series B funding round led by Cambridge Innovation Capital, with participation from Silver Creek Ventures and Harris Barton Asset Management. The round also included a strategic investment from Arm, the chip design firm you may still remember as ARM (but don’t write it like that or their PR department will promptly email you). This brings the company’s total funding to about $18 million. Swim.ai has an interesting take on edge computing. The company’s SWIM EDX product combines both local data processing and analytics with local machine learning. In a traditional approach, the edge devices collect the data, maybe perform some basic operations against the data to bring down the bandwidth cost and then ship it to the cloud where the hard work is done and where, if you are doing machine learning, the models are trained. Swim.ai argues that this doesn’t work for applications that need to respond in real time. Swim.ai, however, performs the model training on the edge device itself by pulling in data from all connected devices. It then builds a digital twin for each one of these devices and uses that to self-train its models based on this data. “Demand for the EDX software is rapidly increasing, driven by our software’s unique ability to analyze and reduce data, share new insights instantly peer-to-peer – locally at the ‘edge’ on existing equipment. Efficiently processing edge data and enabling insights to be easily created and delivered with the lowest latency are critical needs for any organization,” said Rusty Cumpston, co-founder and CEO of Swim.ai. “We are thrilled to partner with our new and existing investors who share our vision and look forward to shaping the future of real-time analytics at the edge.” The company doesn’t disclose any current customers, but it is focusing its efforts on manufacturers, service providers and smart city solutions. Update: Swim.ai did tell us about two customers after we published this story: The City of Palo Alto and Itron. Swim.ai plans to use its new funding to launch a new R&D center in Cambridge, UK, expand its product development team and tackle new verticals and geographies with an expanded sales and marketing team.\n"
          ],
          "name": "stdout"
        }
      ]
    },
    {
      "cell_type": "code",
      "metadata": {
        "colab": {
          "base_uri": "https://localhost:8080/"
        },
        "id": "kV7c4jhx4ke3",
        "outputId": "88b23866-79f1-4fe5-ed61-e019422bbcb9"
      },
      "source": [
        "#for row index 0, print a specific column \"Text\"\n",
        "print(df.loc[:,'Text'])"
      ],
      "execution_count": null,
      "outputs": [
        {
          "output_type": "stream",
          "text": [
            "0        Once upon a time, it looked like cloud-based s...\n",
            "1        The upcoming Justice League movie looks very b...\n",
            "2        San Francisco startup Sense.ly has raised $8 m...\n",
            "3        Well, that was fast. Three days after Facebook...\n",
            "4        Amazon Lex, the technology powering Amazon’s v...\n",
            "                               ...                        \n",
            "52090    TechCrunch is out hunting for bright spots in ...\n",
            "52091    The relationship between the United Kingdom an...\n",
            "52092    Democratic senator Elizabeth Warren may have e...\n",
            "52093    After the shutdown, the testing and tracing. “...\n",
            "52094    Early-stage founders: Don’t miss your chance t...\n",
            "Name: Text, Length: 52095, dtype: object\n"
          ],
          "name": "stdout"
        }
      ]
    },
    {
      "cell_type": "code",
      "metadata": {
        "colab": {
          "base_uri": "https://localhost:8080/"
        },
        "id": "WKNyBJJw4omk",
        "outputId": "764d9e70-3ee0-4b95-aa76-ce0a7792b28a"
      },
      "source": [
        "#for row index 0, print a all columns\n",
        "print(df.loc[0,:])"
      ],
      "execution_count": null,
      "outputs": [
        {
          "output_type": "stream",
          "text": [
            "index                                                     254365\n",
            "Year                                                        2018\n",
            "Publication                                           TechCrunch\n",
            "Title          Swim.ai raises $10M to bring real-time analyti...\n",
            "Text           Once upon a time, it looked like cloud-based s...\n",
            "Name: 0, dtype: object\n"
          ],
          "name": "stdout"
        }
      ]
    },
    {
      "cell_type": "code",
      "metadata": {
        "id": "6i7pcimZ5jaL"
      },
      "source": [
        ""
      ],
      "execution_count": null,
      "outputs": []
    }
  ]
}